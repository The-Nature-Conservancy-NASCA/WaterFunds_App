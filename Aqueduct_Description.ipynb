{
 "cells": [
  {
   "cell_type": "markdown",
   "metadata": {},
   "source": [
    "# Indicadores de Riesgo Hidrico a Incorporar en WaterFunds App           (Aqueduct Global Maps 3.0 Data)"
   ]
  },
  {
   "cell_type": "markdown",
   "metadata": {},
   "source": [
    "<img src=\"https://dl.boxcloud.com/api/2.0/internal_files/689838860743/versions/732511332343/representations/png_paged_2048x2048/content/1.png?access_token=1!8sx7tTcE0unXESVmnsbeqi-ooI1ooiuKkiPoR6Yh2AlqW1hDrsf77bnGozI4oZvwG-nB5Jhu2DS2doQagbjF8auh7eh0NGZuTgQgMnbHv_Z6WqwWnDYlER6eTDMTdqksLqv3_aBUi8nyjaugMf7g_DFPWJN2Qa-z-9EoTZvY2sAzu7pvfqdI2SwvY5cCErQizyRw_ZzZkKULvipkgDkxehHCo6Uz2TQjxfOQWVZydMv33TNvtyjND3-nFCBT2ZuqUFsVgLOCjOTH6XvmoCOoxsZngSw-yQg81OIwMj8mKFNuMzpY2jF4rQFg3WSyePB13kUFut2nSJb2oLj2shlmUzwxrLpWo53fwxwHrA0xADJQlBqY0yuifK007vFolTIC-Mut5YOle9i_vASpz4JVKbIFeJCtXYPp3VoAOivzpFWPU8PgYLgXmMiZj9VvEQqUm9aPdyowPSZBk0QTTDQwvyhZI5aoL7ukUKCEkG9RRH6cRcYfo3IMbL1-9EA6YoWEY2qznjMOd285-VmgDQFusbluF3NpGTK-1Wev4SsdbqhYkRS_sVJwzAAhBUv6cZeQv5L9j88oEA8RXxJUTuJelPf6fY5tNv0virjBRHULsbBBfuG68EU3PeVG7f8cngRg_wheWo-YZgJPzQ6p_5yw8szMPCc0OUintwK9fnWu2BDVv4M.&box_client_name=box-content-preview&box_client_version=2.46.0\" alt=\"drawing\" width=\"800\" height=\"1000\"/>"
   ]
  },
  {
   "cell_type": "markdown",
   "metadata": {},
   "source": [
    "El presente documento contiene una breve síntesis de que es Aqueduct, cuáles son los indicadores que integran esta base de datos y que indicadores se deberían incorporar la WaterFunds App"
   ]
  },
  {
   "cell_type": "markdown",
   "metadata": {},
   "source": [
    "## 1. ¿Que es Aqueduct?"
   ]
  },
  {
   "cell_type": "markdown",
   "metadata": {},
   "source": [
    "Aqueduct es una base de datos creada por el [**World Resoruce Institute**](https://www.wri.org/) en respuesta a las crecientes preocupaciones del sector privado y otros actores sobre la disponibilidad de agua, la calidad del agua, el cambio climático y la creciente demanda. Aqueduct integra una serie de indicadores compuestos que permiten comparar los riesgos relacionados con el agua desde una perspectiva macro.\n",
    "\n",
    "Si lector quiere tener un mayor conocimiento de Aqueduct puede remitirse al [Documento Técnico de Aqueduct 3.0](https://files.wri.org/s3fs-public/aqueduct-30-updated-decision-relevant-global-water-risk-indicators_1.pdf)"
   ]
  },
  {
   "cell_type": "markdown",
   "metadata": {},
   "source": [
    "## 2. ¿Cuales son los indicadores que integra Aqueduct?"
   ]
  },
  {
   "cell_type": "markdown",
   "metadata": {},
   "source": [
    "Aqueduct consolida un total de 13 indicadores los cuales se encuentran agrupados en tres niveles jerárquicos, de acuerdo con la información que brinda el indicador. En la Figura se presentan los indicadores de Aqueduct agrupados por categoría."
   ]
  },
  {
   "cell_type": "markdown",
   "metadata": {},
   "source": [
    "<img src=\"https://dl.boxcloud.com/api/2.0/internal_files/689867197969/versions/732542177569/representations/png_paged_2048x2048/content/1.png?access_token=1!iZuh-uNBQb-AhjigKvHL74g_kuM4nL6uO4FOQA57oZCflDj6uRGk1kLLr1oRTzTkUsF5Ogis6XKM7aLu2m9mUsre-WiG2ulYIIZvjDNtGaf_YlXLYMnETvXhtjZEkcPSzlKDnEqj3Qqb2E83vm434mK84_ERcP0SnGWNb6d5fxSZgx2yO7YrzXIYY_1rfYG5p01SLYkp6Yw1SRM639dQROBBeNnASOln7B4VrwWSQqSk9Q8jaTXGwyf7VxERcovK9MZnRzStXFuBwHqOzFZD44CHZjPJJ0-oap-GNySHdMqtWtCguGLIf1Tv0ncx0Eh93s45Ct-SpnR2FKelqKqmmPEXTQwMeFZniNveaZCuv2ktKQd56NMUQtpBCuhgMhWgosoz1MO0aAcl9aFXBl0kTZkxoQtys1GwNydMR5pZfk-HeDDmy9AZNlLi5sNl-Tt2c6ky6kxbQgL5Ox24QiKf-vsZPl8wvT8ujW-_SQ9vXh0f-rFdjlZ-LEFQJY-xX3ycmAm3Ml9I1iB99DNR7fRvINrD0ZMbmZhjh4f9BpFjuuHjs26TBIkmOni_qJrOwxDeKuF9QgOyJfYSafSJWkundTlJWXwiPP2v5RfUUOndzPWqSbCuY68ytknS7VyQQFDl-2BBHf7t0W-YTXgJn8bG6dMG0x-8sFgxtrt7-okPbBJmssk.&box_client_name=box-content-preview&box_client_version=2.46.0\" alt=\"drawing\" width=\"800\" height=\"1000\"/>\n",
    "\n",
    "**Fuente :** [Aqueduct](https://files.wri.org/s3fs-public/aqueduct-30-updated-decision-relevant-global-water-risk-indicators_1.pdf)"
   ]
  },
  {
   "cell_type": "markdown",
   "metadata": {},
   "source": [
    "A continuación se describen cada una o de los indicadores que pertenece a cada categoría."
   ]
  },
  {
   "cell_type": "markdown",
   "metadata": {},
   "source": [
    "### 2.1 Indicadores de Riesgo Fisicos Asociados a Cantidad de Agua"
   ]
  },
  {
   "cell_type": "markdown",
   "metadata": {},
   "source": [
    "#### 2.1.1 Estrés Hidrico de Referencia\n",
    "\n",
    "Este indicador mide la relación entre las extracciones totales de agua y los suministros renovables disponibles de agua superficial y subterránea. Para la estimacion, se tiene en cuenta los usos consuntivos y no consitvos domésticos, industriales, agricolas y pecuarios. Los suministros de agua renovables disponibles incluyen el impacto de los usuarios de agua de consumo aguas arriba y grandes represas en la disponibilidad de agua río abajo. Valores altos en este indicador expresan mayor competencia entre los usuarios.\n",
    "\n",
    "Este indicador se estima a nivel mensual y anual. La categorización para le nivel de riesgo que tiene este indicador se muestra a continuación:\n",
    "\n",
    "<img src=\"https://dl.boxcloud.com/api/2.0/internal_files/689835720767/versions/732508014767/representations/png_paged_2048x2048/content/1.png?access_token=1!mqlACeqN0oYVlobgXd5y3IqNHm6WZBLh_EeguYuj2EkQGgfMc_ostJLqIQUFj-GNwArGyNUwMUjQWptH9YPfDFwwUyvzz6Snrvsz9m2mwIHscLLBabwzj_gKzTW9ZW3pw0ujymEtMXbclPWfv1SEyRrwGYSLjy2xQXZrcTLHUsMO_7rK2OzUrwtYip7N2rdlYrhb1QlZMKCd6EGWlRNIrAHLnH9sN-jVIXQiIBZzxORpGrs72oRk__JNP-Vr37UOqM9SrTURMWLjfWk6OGr_y4mdCG2i-Edn8SBmXSvbupvERmFnnKsGIUSVYysM8oB9_JhUxLdcel7-preukzwSaeYpULkwHgIsYPuto_b2OlRxMDN57p5KKUCUUqdmgdtsPnQmGDf2jVR9sY1KUeLodXjzVyH0N57HEoxcvWGu9DoGh2qKVgok0oQEX5sP0VnAgLPCCar5u-54dGJkp-WXYVdAXitRF4BMZpXxXBMYwUIm3l8k5vmQkQPnoJ_qrQhEf95J553Qxk3TUVX31-JR9R3QrIFZ38Ji4hazdaJRB3rnFwumFRl0n8CKTA9KsDphCu7bBfKOjk1f3cgXmz4R5oOYIcdKIjuwaYVCORIEkzu1vxNKDzvuDNlRdVCbSneqmiCrFgMgrVm7ZUge86Usy8RN8XMSTwVHorK2s_n39NA5j0Q.&box_client_name=box-content-preview&box_client_version=2.46.0\" alt=\"drawing\" width=\"400\"/>\n",
    "\n",
    "**Fuente :** [Aqueduct](https://files.wri.org/s3fs-public/aqueduct-30-updated-decision-relevant-global-water-risk-indicators_1.pdf)\n"
   ]
  },
  {
   "cell_type": "markdown",
   "metadata": {},
   "source": [
    "#### 2.1.2 Agotamiento Hidrico de Referencia\n",
    "Este indicador mide la relación del consumo total de agua con el suministro de agua renovable disponible. El consumo total de agua incluye usos domésticos, industriales, de riego y pecuario. Los suministros de agua renovables disponibles incluyen el impacto de los usuarios de agua de consumo aguas arriba y grandes represas en la disponibilidad de agua río abajo. Valores altos en este indicador expresan un mayor impacto en el suministro de agua local y una menor disponibilidad de agua para los usuarios intermedios.\n",
    "\n",
    "Este indicador se estima a nivel mensual y anual. La categorización para le nivel de riesgo que tiene este indicador se muestra a continuación:\n",
    "\n",
    "<img src=\"https://dl.boxcloud.com/api/2.0/internal_files/689937981235/versions/732619608835/representations/png_paged_2048x2048/content/1.png?access_token=1!ZSJUjsFuoic7B4JCfTtTRPtgBpepdc0DxGfyifk_i516Sav99dA6o7FiwEM_IEOnC4yB1EoHPRN-LetcjO_yDY85F24yq_02ncAAheis3vb1ywbJNWMek24a_6uCwR-PtQ6RpAcdZ4dMAh4KFLd2Ri0OptHBCCb8CwywR8-DgQdrF1VBP2Bkrt0ed181eNuMmS4Bvdv65P6fL_qMfJRRC136EaKIouEbYM0VFGwGvdsFH_nU_0ECg5evjcY5v9AxymQJYZk3ORC_4_jYzeCleNWuT9aYolipjHg3VoCG2mTI3rXrmDSlcpiZ2btnmH63m3qidzBirKiAeH7_kszUtgS7N66JvSggsf-0t5F31EWmrl4uWx4dcMvZ032Jwed3V-vWOiWxVhpepfazPe69-TkDAvEPkieN5m0OXq-vGHQ9wpwvs_TE3Edoj27ya1dWz4hYdLD8kLvewF4lQJHcB17UKKQTaRR_1TDFC-6PHCDVnB9-T-FUcHjO1B-s8aFGuJ9uHmN9r8xtImoyWHML66G07PJ5FGzLiJB-10jcuGTDWFYcMHiNDRcWULdgXD1wwuliglRBFe41v-8QYd7OPszhle5-xyWDWPD97TtMpxusVUoJLRxizNcNVtL4mU64L9ZLsR-MI4Zb9j8eAj130u9U35VLX9q1Xbq87vfWrGUDjck.&box_client_name=box-content-preview&box_client_version=2.46.0\" alt=\"drawing\" width=\"400\"/>\n",
    "\n",
    "**Fuente :** [Aqueduct](https://files.wri.org/s3fs-public/aqueduct-30-updated-decision-relevant-global-water-risk-indicators_1.pdf)"
   ]
  },
  {
   "cell_type": "markdown",
   "metadata": {},
   "source": [
    "#### 2.1.3 Variabilidad Interanual\n",
    "\n",
    "La variabilidad interanual mide la variabilidad promedio entre años del suministro de agua disponible, incluidos los suministros renovables de agua superficial y subterránea. Valores altos en este indicador expresan mayores variaciones más amplias en la oferta disponible de año en año.\n",
    "\n",
    "Este indicador se estima a nivel mensual y anual. La categorización para le nivel de riesgo que tiene este indicador se muestra a continuación:\n",
    "\n",
    "<img src=\"https://dl.boxcloud.com/api/2.0/internal_files/689939724846/versions/732621374046/representations/png_paged_2048x2048/content/1.png?access_token=1!FHdaGeTgFQ0PMt7q4u5mxtILCAkmfrCE6sEQgIyVmKWkEA4Zd08nMUruakawcaiLAMqf2mUUASKBeuOQwVgsdZA8FHLnaAryld1Rkp3vmKs3dSv-TsK1I_YbDMP7nIw8NFPwahR_Zf32LgI0o2Szhimn6xy2rWZzVWhD-GzgluaKlLWSBf5cJhdQ0BJhgzu8RAg7EmrjUNpEonvqcAYH011RqvLULk-xq9T90iZPtW9Of8Oisao9yTcriw0zJ5nFy_1brJMgxqZn-wQ-aUBXhISpa0y2l3dItoOA9SHuB66_5RZCogkZHVOzYeElcV8ZC2DM0zsjPRkpO7nHY__qea9R9TGGqCB1Wpw7OmH6qeCXdST6QPum3zy3fKpyaJ_wlDEAiunP3B3665oSAJCCpvRDKI-qO7OMlGfkHFwVq6RW2zCDWZRJxePbusgAw8emjjXeRnqxIo2OcryfltcmlzaVm_swB75sK2js7jwsCkiie7YwjPVlwYLIZ4WNWoJbl_kzwk_ZJaR1vCiN9PLClvsoClB9SlhvyMIX6KqXXh77JL_ixvFvVCCcRAmoNTkD_tH5dJ83U5e50xJHU18hOVYnVwrqsSnl80CidIkKJyyYRmmPqFLa983QzLpcUs7AZ3PNn6cGi2F3RU2Bo_Y0WH0BUx2s5uSAiNhnCJA6ktQchJA.&box_client_name=box-content-preview&box_client_version=2.46.0\" alt=\"drawing\" width=\"400\"/>\n",
    "\n",
    "**Fuente :** [Aqueduct](https://files.wri.org/s3fs-public/aqueduct-30-updated-decision-relevant-global-water-risk-indicators_1.pdf)"
   ]
  },
  {
   "cell_type": "markdown",
   "metadata": {},
   "source": [
    "#### 2.1.4 Variabilidad Estacional\n",
    "\n",
    "Este indicador mide la variabilidad promedio dentro del año del suministro de agua disponible, incluidos los suministros renovables de agua superficial y subterránea. Valores altos en este indicador expresan mayores variaciones más amplias de la oferta disponible dentro de un año.\n",
    "\n",
    "Este indicador se estima a nivel anual. La categorización para le nivel de riesgo que tiene este indicador se muestra a continuación:\n",
    "\n",
    "<img src=\"https://dl.boxcloud.com/api/2.0/internal_files/689937921622/versions/732619550422/representations/png_paged_2048x2048/content/1.png?access_token=1!S7BAhqMFYiLTwmpUHZYYwgknqv74JaURCBAAL_V-c2xCgyAmbKxwY5PkvTGF_Ld_ZneYfCAsGDmZQe82Xh6esGLhOjnzZWIXLQLrqw5Ff2bTDWCAmxvmtW8S0-LHcX2u90IaaJUgIijXurwC-HzIIPpWJl8L6ljbQ7wKWZmQNycCuGyGAc66R_LYFtafIz8ULqYEdQDpgs02t-aun7a5GJOyqSGM4ra6UE961YvxAQ27Tedr4lF3M5jj01ZSLXShI1NkWlBZTUoFtUdxTJDeG26vVCxTI6eJS7E9oF6sJasTR70dMjA2sn6j3eOCBFwMNkkKmmOYQSavDmkbkMuXsstJ9-dLhGnzbgjK75Y_LPPxPo7pd_MWRr7HvNNbQTmsPJALpdixc6wHTnUNC35UFpTZuf2kgjnUxwn0siBs19iRCdCfwo2exwWbCYioG980K3Mt2ZMupCaOplUuqNC2VLYj30nLdQxen9_mGcOADyWNSy5gxrAqHA9I3fzEJYUMUkjvjGx1KFX_oVMiij6AnMzTpfEvQ71DiXb45tbf_-z0JD5y9UNxiry3AxwPYIdSA3_sjUp0OlDq_j38PiX7wPWDcx_2tuQqWn2lJ2imT8Mfm_z6vY2DmG11NPmna9Jza6p9CsBToRXjJTYjh0iDZeh0Kmr4aUXBKKP-HciP9TukE48.&box_client_name=box-content-preview&box_client_version=2.46.0\" alt=\"drawing\" width=\"400\"/>\n",
    "\n",
    "**Fuente :** [Aqueduct](https://files.wri.org/s3fs-public/aqueduct-30-updated-decision-relevant-global-water-risk-indicators_1.pdf)"
   ]
  },
  {
   "cell_type": "markdown",
   "metadata": {},
   "source": [
    "#### 2.1.5 Indicador de Amenaza por Disminución de la Capa Freática\n",
    "\n",
    "Este indicador mide la disminución promedio de la capa freática como el cambio promedio para el período de estudio (1990–2014). El resultado se expresa en centímetros por año (cm/año). Valores altos en este indicador expresan mayores niveles de extracción de agua subterránea insostenible.\n",
    "\n",
    "Este indicador se estima a nivel anual. La categorización para le nivel de riesgo que tiene este indicador se muestra a continuación:\n",
    "\n",
    "<img src=\"https://dl.boxcloud.com/api/2.0/internal_files/689939859057/versions/732621552657/representations/png_paged_2048x2048/content/1.png?access_token=1!Gd4xwQ360RtjqsQqZNz7YZQ1J7uknFS15F73ICLC8alJzuSlUhM3PldLpkyUchVBTqqPlObZDU6zxffceFkEBU5C1gOGkRlnEILZKXI2HDeRCgM0fsW3c2O-Jwt1H3Ynw5WJXRJHWeB2Eow3HS7m-vo0AsbaHTq8ZdIUwRD0D4eQHTWjkGKZNuQeyD9xdvVN-tFEIj2v_kb5JQH3WkesEE4cfwuXLt-KYSmwmFE_Am5XBfnVb7uyuZ4oABhFktXWyICRscF61NVecw0-jf6kgGP8hn9YqGlOOWlQ6lKSAhD2NmidSlB3JsXEf9IAQZdt-g9a653bsyBajwl_1iyDvTP0KksM3agshVgxlXOyQcbb4iZ6FXDSGmYtmklYBtsycYgjypEZQJ1VImgb3SKyMOA5x8Cud70C4e2lJcVSrnTMkuGkHQTVDzv7QvtN0Pcwzu2KVqAUicSbpwIv2QB0nnyXc2wiXPHxSnbVLzocHjNsaZOKH4YCdzmujv5-6Zdlr4cisjhvC8TgRDT9W0JCf9Z2WNJSmKJWuOn11xkyRnCcXNXNRNx35q_l9mfFEFTOWZqj_C2zGkXYFfCB5TLsHezSyrIJf8NKFhjhrRveu-7LUF9VoD2pfMUmiCe0QAVnMAylbihY62oD7f0sK2RiYstaEkv2DjZt11D-hsYo3lYQMs0.&box_client_name=box-content-preview&box_client_version=2.46.0\" alt=\"drawing\" width=\"400\"/>\n",
    "\n",
    "**Fuente :** [Aqueduct](https://files.wri.org/s3fs-public/aqueduct-30-updated-decision-relevant-global-water-risk-indicators_1.pdf)\n"
   ]
  },
  {
   "cell_type": "markdown",
   "metadata": {},
   "source": [
    "#### 2.1.6 Indicador de Riesgo de Inundación Fluvial\n",
    "\n",
    "Este indicador mide el porcentaje de población que se espera que se vea afectado por las inundaciones fluviales en un año promedio, lo que representa los estándares de protección contra inundaciones existentes. El riesgo de inundación se evalúa utilizando el peligro (inundación causada por el desbordamiento del río), la exposición (población en la zona de inundación) y la vulnerabilidad. El nivel existente de protección contra inundaciones también se incorpora al cálculo del riesgo. Es importante tener en cuenta que este indicador representa el riesgo de inundación no en términos del impacto máximo posible sino más bien como el impacto anual promedio. Los impactos de los años de inundación poco frecuentes y extremos se promedian con años de inundación más comunes y menos noticiosos para producir la \"población afectada anual esperada\". Valores altos en este indicador expresan que se espera que una mayor proporción de la población se vea afectada por las inundaciones fluviales en promedio.\n",
    "\n",
    "Este indicador se estima a nivel anual. La categorización para le nivel de riesgo que tiene este indicador se muestra a continuación:\n",
    "\n",
    "<img src=\"https://dl.boxcloud.com/api/2.0/internal_files/689939414626/versions/732621050626/representations/png_paged_2048x2048/content/1.png?access_token=1!SZTInzLta1Ng0LmyT8BboaC4IsZpqsqv5we7h38T-qJ6BOLGSI7IGFj1yiezwynZth0VhNdGqWfbakQTxZwt_CvP5yn9OIsbZmvgP8Xc9uF8rn9yJydlXem4RwphOr0q9Ekxy1oqhC5HK8OdP2qGkYUd8GihR5tmPsx8EVCmM_ZJ4e_K5Q-O_SjnPB8Qo5lGKHtsmru6n8ARajoW2pYUy5oI0V63puHIpoiWmFR7FjyNSrxboUFvr3XfAZvUHrRyOVL2OKYSlYkqikCQsIo9O3CAecBAKyY7XQ7NcoJ-nrk-KCmrm7jgJB7bJpXrN7RjTbOkobsX9jeoHqxkq0Zf2lvH2JeSyNBxpFDYWwDdFYAWAJQUD3fv_gtPL6O7NFAI1fVrirYQtwJV8zJ1doHyZ8FT7ZO8iom8dF9x0XzSt_4ySSS5I4fjESXgxYh2IKBna61xa8qFNuO3d3Rv2g2PI77oIsSux8Mvpwf_e98zN1dk3NIjQUgJGgh_djziR5G0puKLqaICrF0pj0xYMPW3xhfjSSCmUA2ppo_kJ7H5mKeAHhoVfH7U0W_NUC-I13kTNvwyOe0WJRkCEMSFwD1y4L_v_VAfW3aklcTv2ReUiW8FCHc4oOds3ZhSiy_5kpxJVCCm6uvl5ApZaKfWBnv45Js2_IlJVubN6LrMlcVdu3X9MEw.&box_client_name=box-content-preview&box_client_version=2.46.0\" alt=\"drawing\" width=\"400\"/>\n",
    "\n",
    "**Fuente :** [Aqueduct](https://files.wri.org/s3fs-public/aqueduct-30-updated-decision-relevant-global-water-risk-indicators_1.pdf)"
   ]
  },
  {
   "cell_type": "markdown",
   "metadata": {},
   "source": [
    "#### 2.1.7 Indicador de Riesgo de inundación costera\n",
    "\n",
    "Este indicador mide el porcentaje de la población que se espera que se vea afectada por las inundaciones costeras en un año promedio, teniendo en cuenta las normas de protección contra inundaciones existentes. El riesgo de inundación se evalúa utilizando el peligro (inundación causada por la marejada ciclónica), la exposición (población en la zona de inundación) y la vulnerabilidad.17 El nivel existente de protección contra inundaciones también se incorpora al cálculo del riesgo. Es importante tener en cuenta que este indicador representa el riesgo de inundación no en términos del impacto máximo posible sino más bien como el impacto anual promedio. Los impactos de los años de inundación poco frecuentes y extremos se promedian con años de inundación más comunes y menos noticiosos para producir la \"población afectada anual esperada\". Valores altos en este indicador expresan una mayor proporción de la población se verá afectada por las inundaciones costeras en promedio\n",
    "\n",
    "Este indicador se estima a nivel anual. La categorización para le nivel de riesgo que tiene este indicador se muestra a continuación:\n",
    "\n",
    "<img src=\"https://dl.boxcloud.com/api/2.0/internal_files/689938137911/versions/732619825511/representations/png_paged_2048x2048/content/1.png?access_token=1!wkbZA13OPDrx6kfAxPpl_PjdUjtbHL8QNFqPVgUdThsFrYGSuvx8JpAZT0-pi44Jz0-j4kyu0yKgZmYQ98QLvv6wobesAj5eU2rk5PagPM-tmqr02kht_rSvBuGBcJoGWwjFel2bCtEo9QQM_gP9Ii0iOmNcM0zUcLx2yPr4CEbgEPjg0U5wJUtw4RHCPcVJdOrPiPjTU_XvrM2G1RmWGMUzny34VyDzerI8FIOagydzjtmIo2WqLN8Ug6qynvxs8biQgs0LFIViJeiTEihZPKZBp1ApfythTKi1lEsedJgkQcxlBvx0t71jd_3BDPqFd_DtUV3PR6VcJOOIb7pQ4NqveBusfSg8QVcW441l9D78SfiUOyvrXIUJ2YQqQ3X7fBLEV6hS_lfw0405FBTdwyMbvWA1KbVXTeB8SrcIkzZJKg-gkHig18e2qZQCV8qxfpT1iBrOUUSJmN_wXdu5cem0PcqkKhHEmbzQxRiBdaw95ermBoSLq0fmzkA8XwJWcCKRZLatebxZxAC3n7WDiPx7vWZRDc4mjvtYdC46aRLUU6T2DAH_qY_7P_l4oSlKzmaW7B3CSHRMjmeR8rCGgzL0CxNjc5iF6RslPZJIpWmH4nRvBQ0HoeX0SIX00RJ3PMKRMauPfsebFoNWTLIt9BqJzX8nn6zhjRgrp4p9rwpACow.&box_client_name=box-content-preview&box_client_version=2.46.0\" alt=\"drawing\" width=\"400\"/>\n",
    "\n",
    "**Fuente :** [Aqueduct](https://files.wri.org/s3fs-public/aqueduct-30-updated-decision-relevant-global-water-risk-indicators_1.pdf)"
   ]
  },
  {
   "cell_type": "markdown",
   "metadata": {},
   "source": [
    "#### 2.1.8 Indicador de Riesgo de sequía\n",
    "\n",
    "Este indicador mide donde es probable que ocurran sequías, la población y los activos expuestos, y la vulnerabilidad de la población y los activos a los efectos adversos. Los valores más altos indican un mayor riesgo de sequía.\n",
    "\n",
    "Este indicador se estima a nivel anual. La categorización para le nivel de riesgo que tiene este indicador se muestra a continuación:\n",
    "\n",
    "<img src=\"https://dl.boxcloud.com/api/2.0/internal_files/689938088571/versions/732619746171/representations/png_paged_2048x2048/content/1.png?access_token=1!ogpm68m3AMqJKn8ZWxMwNpkFk52UqR760Vz6QLC3upe2QSuOfdkH3NaAHXpkFPpnhSJBPMb2BDm8JpONry0TP49NHtpXVwG_XQsePu7HBtaYDkCqyMAWUBEeOza-4fsXotkRqoDSoSLiW5iCpOLTitj_2O0kZQeMokZ_Duos_m5iWphcHkXEhGeB5ldIp01A3xNQt_3H1L11Guj1F0F1_TUzQQihs8-ffx_bFzPBRpTNxRGO_sCVFFq50qT6W1-l0HoJh-uE4PKnWs6_0VbjN70nGBFYeRX2E4_8tAqCbSuEbumlY_e25TDXSb9ybGwqKWFiT1PHzd82MGJB43n39doQdhxU2QpF9Eu5ORCBGAJZZwNO3RVaRJP92cAZg1gPdajlqMbwKO9_dcDuZfu-XP83fdPPNOB9IMJ0FSVm3zIg6pf519h4ZNZMj2BOLdTS7Rpi9BNwnhYUe3y4cHOTCQJqmfSNM0hg41AnjvFh2_9_JJIwi4zEKxN4lASJgtJ3E96XerkF3hwli6ULKbAI6w-bwLwHuWH44fKajBq8j09dQILpf1RHt7rjfPisFEapiP3IGYkL3M1G59x5GYcnT5PdGclt7FiSF7gwt8in9yBZimhaaYQMtDcdfoCEfOlDo7O9Xe1UE1DQlLYXoV30w5os6koxBCGz6wxUzm21LRmLZf8.&box_client_name=box-content-preview&box_client_version=2.46.0\" alt=\"drawing\" width=\"400\"/>\n",
    "\n",
    "**Fuente :** [Aqueduct](https://files.wri.org/s3fs-public/aqueduct-30-updated-decision-relevant-global-water-risk-indicators_1.pdf)"
   ]
  },
  {
   "cell_type": "markdown",
   "metadata": {},
   "source": [
    "### 2.2 Riesgo Fisicos asociados a calidad del agua"
   ]
  },
  {
   "attachments": {},
   "cell_type": "markdown",
   "metadata": {},
   "source": [
    "#### 2.2.1 Indicador de Amaneza por Aguas Residuales Conectadas no Tratadas\n",
    "\n",
    "Este indicador miden el porcentaje de aguas residuales domésticas que se conectan a través de un sistema de alcantarillado y no se tratan al menos a un nivel de tratamiento primario. La descarga de aguas residuales sin un tratamiento adecuado podría exponer los cuerpos de agua, el público en general y los ecosistemas a contaminantes como patógenos y nutrientes. El indicador compone dos elementos cruciales de la gestión de aguas residuales: conexión y tratamiento. Las bajas tasas de conexión reflejan la falta de acceso de los hogares a los sistemas públicos de alcantarillado; la ausencia de al menos un tratamiento primario refleja la falta de capacidad de un país (infraestructura, conocimiento institucional) para tratar las aguas residuales. Juntos, estos factores pueden indicar el nivel de capacidad actual de un país para gestionar sus aguas residuales domésticas a través de dos vías principales: tasas de conexión extremadamente bajas (menos del 1 por ciento) y altas tasas de conexión con poco tratamiento. Los valores más altos indican porcentajes más altos de aguas residuales de fuente puntual descargadas sin tratamiento.\n",
    "\n",
    "Este indicador se estima a nivel anual. La categorización para le nivel de riesgo que tiene este indicador se muestra a continuación:\n",
    "\n",
    "<img src=\"https://dl.boxcloud.com/api/2.0/internal_files/689938130490/versions/732619783290/representations/png_paged_2048x2048/content/1.png?access_token=1!3-gu5_q5pDZqZt_qDoMd0NIq7uP9J6OJ7bdRRPkaHhyOSJD_0iaH_5NhAnDbLV2_Fi2saRIAxfbLU5_FQIVZBt0qbGWjKrYPeLr-UUF8TFQeRoP8zxGV5alPhugzaeORnLNoOM4WRGkhYfCKbVDBD6i3yBiRTxEtQ_IAZXVsX58hJ3S8WIifsITn81NFgS1XILOIMsttO-omn23NiZdKhffHSq-QDVkW91ecj7GRzYjh3D484OkHcv1nPBjpeMDHfeWtF7yWLjJZrejUT6WzLw5MQAQ877ZdgGiI-yE9UrgUvcR9g1pk4NBWLmvhmDNsFyyOPHvYzNEoQW6weUgqOghv5tZdRrk8RC3cjrpZQhDdBW_rUcnLiKjT9bKQSFR98BnDoL6kkILfXgIRRnDTMz_mp6fmr2ghrrsESr8rK04vq7y-6Crs66fPAtyy_Q86IY8XfZ3iJwSoaHOCb5bKMC6149YO3G7HQUYzqekhlT_sSlSJYDGkGInDjwXfqbVEDo2OH99Nsr6tlbeBAI72FTBc2whkbWexmslZx8Bq00m_lMH1LAUP54Bcr0TJUDccY8fl3LxBfeYdfbJO5bG9M-Eh0r9DCel5BbWdDw3Bb1VtE_P99yt2F777jr0GR208427KP0FV6mqKqo_09APvJv6q18VSvLbzKJIMnVgwfqhxlN4.&box_client_name=box-content-preview&box_client_version=2.46.0\" alt=\"drawing\" width=\"400\"/>\n",
    "\n",
    "**Fuente :** [Aqueduct](https://files.wri.org/s3fs-public/aqueduct-30-updated-decision-relevant-global-water-risk-indicators_1.pdf)"
   ]
  },
  {
   "cell_type": "markdown",
   "metadata": {},
   "source": [
    "#### 2.2.2 Indicador de Amenaza por Potencial de Eutrofización Costera\n",
    "\n",
    "Este indicador mide el potencial de las cargas fluviales de nitrógeno (N), fósforo (P) y sílice (Si) para estimular la proliferación de algas nocivas en las aguas costeras. El indicador CEP es una métrica útil para mapear dónde las actividades antropogénicas producen suficiente contaminación de fuente puntual y no puntual para degradar potencialmente el medio ambiente. Cuando N y P se descargan en exceso sobre Si con respecto a las diatomeas, un tipo principal de algas, a menudo se desarrollan especies de algas indeseables. La estimulación de las algas que conducen a grandes floraciones a su vez puede provocar eutrofización e hipoxia (crecimiento biológico excesivo y descomposición que reduce el oxígeno disponible para otros organismos). Por lo tanto, es posible evaluar el potencial de eutrofización costera de la carga de N, P y Si de un río. Los valores más altos indican niveles más altos de exceso de nutrientes con respecto a la sílice, creando condiciones más favorables para el crecimiento de algas nocivas y la eutrofización en las aguas costeras aguas abajo.\n",
    "\n",
    "Este indicador se estima a nivel anual. La categorización para le nivel de riesgo que tiene este indicador se muestra a continuación:\n",
    "\n",
    "<img src=\"https://dl.boxcloud.com/api/2.0/internal_files/689937922422/versions/732619575222/representations/png_paged_2048x2048/content/1.png?access_token=1!lE8-S734bJ5HYpTQpQQxtdfwUFa8Fh2wZuqW6FKsP-kFok2Cykril1kF44MOwez4CRn89dyse70NxN4aBlEXua6j111lIi_C7VupU_lk9mxSghhlG8uFhQZ5vYvTIt3aHg4mCac9sQ-N09HjcspOdlvoTNRJnbEj5LhWsew0ijt1VMjfqlkzFIlxtWwiT99pKEsF4Hk9ApAUvsGXv0RSvrXvnenzAvgKf-aFt1KuIO05utxCgunJOFSC5TcA56h65TfNMhxR-yy-t1l3vczWLbnZeziZUMLppkqP71R98xOGDImvRBtDopyGmD1WtZoWoVke-jcctc8cosb6oyCRPo3ftEzB6L04eG229wuYJf-4d-zZWflmZLWKW2T4PDevQx2bLZ9yxtEE9UTAWJ2C26SbOgXP50IYKaM452mvu2i6E3CH0bmsT2TKA5OTFoSx8YF2v5P8EPUaf6Dw6ZO1ljFCr5IV8HBGtlcybeW1Atj5lf5oBbOeCqaUd5_OijXj0gb0vu2m43_36vEVGsOWfmSQozbMhkohCsK-9CByVC3Ho2FOTCz4sSq1fQLxjpk4uVAAp8WoS7adt9vfc4Xj0-JLa2rgZg9fuWPXboei0dfP4acrqEKU3itMZRbT_1yDf-kOrq5o1ThEfrFoeZipiGrwObYWmHH1mXDk_s1SYHSDkJ8.&box_client_name=box-content-preview&box_client_version=2.46.0\" alt=\"drawing\" width=\"400\"/>\n",
    "\n",
    "**Fuente :** [Aqueduct](https://files.wri.org/s3fs-public/aqueduct-30-updated-decision-relevant-global-water-risk-indicators_1.pdf)"
   ]
  },
  {
   "cell_type": "markdown",
   "metadata": {},
   "source": [
    "### 2.3 Riesgo asociados a regulación y reputación"
   ]
  },
  {
   "cell_type": "markdown",
   "metadata": {},
   "source": [
    "#### 2.3.1 Indicador de Amaneza por Agua Potable No Mejorada/No Refleja\n",
    "\n",
    "Este indicador mide el porcentaje de la población que recoge agua potable de un pozo excavado sin protección o manantial, o directamente de un río, presa, lago, estanque, arroyo, canal o canal de riego (OMS y UNICEF 2017). Específicamente, el indicador se alinea con las categorías de aguas superficiales y no mejoradas del Programa de Monitoreo Conjunto (JMP), los niveles más bajos de los servicios de agua potable. Los valores más altos indican áreas donde las personas tienen menos acceso a suministros de agua potable.\n",
    "\n",
    "Este indicador se estima a nivel anual. La categorización para le nivel de riesgo que tiene este indicador se muestra a continuación:\n",
    "\n",
    "<img src=\"https://dl.boxcloud.com/api/2.0/internal_files/689938129255/versions/732619808455/representations/png_paged_2048x2048/content/1.png?access_token=1!Bee6GC35cL4m5zuOmt6azX9IsJAecfAHd1ewcRKaTrHvQRomedjm5y_k0UODluYBudLD90aF_zpQKwKZ0coq2wjXL6Z1SHreSzIxFHbRQCz6nPzzPGMOymxcnPW6326Q27dpBFM6o0aAtIBaxA37DE1XuR1FgM0M1VxkYfFuQci_cRpZElpVnwYTDLwZ_rlxFUudglUmKvoMhowKrMYSH1Iml2CMrMHW05z_WMI6YHSwNmFr6Yw71W8yZSRY95T1c1Nk3ayTakPqY61BmumIkVDJSpCja1kOoAK0LiSsZ-43ovjEB35Xa6y7lgd0-Q3xW36IbsCkKu2yPZA9HFLgFQtaVrnRxbMkX9HaedydzZ8JvU075LCkxQnpLIbQv-OI-c7F75IcrylP6PlVHJ0KmclvfPXGKnuXcWZ46dpwmXnYCt3dmIJOzEqLjLvtk5F3X0_ECdJtO6Jc71PJCrqbvE5X15VbI64jaiFs27FYoy3Vl9aP7EiyXI8L8mhOrYt0XsKaxAD86DKAalZD_V9cAnsfTM0GvTLQdLQsI1Xl-epUbMY5tcl86-aSvgfGA34oRlTktCGSVb8d8ER3_62FeLHk2l-SFAcNnfSDW9ngDi2JD4BFwegJ02w0-yIKHiqJPzlOstOU1bQBpfq_vw1gqUmHIm7p4qnnwE3kC3oh7cTNfg4.&box_client_name=box-content-preview&box_client_version=2.46.0\" alt=\"drawing\" width=\"400\"/>\n",
    "\n",
    "**Fuente :** [Aqueduct](https://files.wri.org/s3fs-public/aqueduct-30-updated-decision-relevant-global-water-risk-indicators_1.pdf)"
   ]
  },
  {
   "cell_type": "markdown",
   "metadata": {},
   "source": [
    "#### 2.3.2 Indicador de Amenaza por Agua Sin Mejora/Sin Saneamiento\n",
    "\n",
    "Este indicador el porcentaje de la población que usa letrinas de pozo sin una losa o plataforma, letrinas colgantes / balde, o directamente eliminando desechos humanos en campos, bosques, arbustos, cuerpos de agua abiertos, playas, otros espacios abiertos, o con sólidos Residuos (OMS y UNICEF 2017). Específicamente, el indicador se alinea con las categorías de defecación abierta y no mejoradas de JMP, el nivel más bajo de servicios de saneamiento. Los valores más altos indican áreas donde las personas tienen menos acceso a servicios de saneamiento mejorados.\n",
    "\n",
    "Este indicador se estima a nivel anual. La categorización para le nivel de riesgo que tiene este indicador se muestra a continuación:\n",
    "\n",
    "<img src=\"https://dl.boxcloud.com/api/2.0/internal_files/689938066610/versions/732619705010/representations/png_paged_2048x2048/content/1.png?access_token=1!0d3Rp_SG6Hrr3xrWWcdCBywTTPeRGESGnEk5Otg5wH_8noVbdiICKdBvUa89l6nz8a89v0xD6aBPkab9QgeeMcGNOw3wSDTqyU0OAhZk2JWtSZ25fMRmxKvZ8Zs_Io-dDDRTD08kPVj6o86MfG5cFWwWJsbUr9LIv3JvmEGabRCRU49iEbJTC3hSikMH44xgPXMqRKLGYZyUQFGh4bZ__atXDKcMyoQphAy80Dw0EajGR3yBUrc0FEKGDdnQy-FT7TAkzlqPQ422aeecIEjjtDZDi7uWJZr4vJAEQvUVr1kBSCgJ_cdEFdwsPadk0i6PqQ327BhEBY_bHKdMwhXVm5-bPx6ailfFQZwuJnub5Kja8q-hdh2WH2x6oGM7pUqlw4fvapaEX9ZEOMUlEMuHD4AuRU383kMQnnKuzWjL9oOTmKIwcH5GluXOIonaq_aj8RpqKSQqkCjRxg97scFKEdnSxfEWnLNqe3AnTRhD61KyEolm7ttFI4dh0TGUiZ6Sw6_RxG6Iccop4Gprj7IlV9vcql_OrX7mMV4WQkvQjdtKJtwVgPB9xb_-tqbzGYQrgqIiL5g2AC1-mf6_iDWsXFWlL8RO402iYEsDSDZ44kBJQbLNhl465YS8PpTOGDWU9nPRbG267iu-zeDtNLpjzwVMeOdt27yGqsnYza2ktfVkq2M.&box_client_name=box-content-preview&box_client_version=2.46.0\" alt=\"drawing\" width=\"400\"/>\n",
    "\n",
    "**Fuente :** [Aqueduct](https://files.wri.org/s3fs-public/aqueduct-30-updated-decision-relevant-global-water-risk-indicators_1.pdf)\n",
    "\n"
   ]
  },
  {
   "cell_type": "markdown",
   "metadata": {},
   "source": [
    "#### 2.3.3 Índice de riesgo pico de RepRisk Country ESG\n",
    "\n",
    "Este indicador cuantifica la exposición al riesgo de conducta empresarial relacionada con cuestiones ambientales, sociales y de gobierno (ESG) en el país correspondiente. El índice proporciona información sobre posibles riesgos financieros, de reputación y de cumplimiento, como las violaciones de los derechos humanos y la destrucción del medio ambiente. RepRisk es un proveedor líder de inteligencia de negocios que se especializa en ESG e investigación de riesgos de conducta empresarial para empresas, proyectos, sectores, países, problemas de ESG, ONG y más, al aprovechar la inteligencia artificial y el análisis humano en 20 idiomas. WRI ha elegido incluir el índice de riesgo ESG del país Peak RepRisk en el Acueducto para reflejar los riesgos regulatorios y de reputación más amplios que pueden amenazar la cantidad, la calidad y el acceso al agua. Si bien el algoritmo subyacente es propietario, creemos que nuestra inclusión del índice de riesgo ESG del país Peak RepRisk, que normalmente no está disponible para el público, es un valor agregado para la comunidad de Acueducto. El valor máximo es igual al nivel más alto del índice en un país determinado en los últimos dos años. Cuanto mayor es el valor, mayor es la exposición al riesgo.\n",
    "\n",
    "Este indicador se estima a nivel anual. La categorización para le nivel de riesgo que tiene este indicador se muestra a continuación:\n",
    "\n",
    "<img src=\"https://dl.boxcloud.com/api/2.0/internal_files/689938074793/versions/732619709593/representations/png_paged_2048x2048/content/1.png?access_token=1!yjy6k6Trm41XPwBBpQ_4Gio1sasRJhVV7NyTH4A0TqciYAP_DLJh8vEeXKL7JMvAMMuxiRDiRjIZPDtFZVq7IrywbSVKssTXCpiZzlRPXOR7LXDmO9GLJOlf53PEfE25e1lwNkCUwopyKoT2r9K4hoF0AvK19DlRV9mtNqzDk0G4lPMM50NvPDXsBUFfeWab6BFs0scM6WdkNKKJrvMNJRNcgbBuyeIQkglrBaeCHkf23p1127Qg9iAZUHoVHXnsKLqciNmynnQ56hrSX5FrMD87X8R_BxEWCY09aC7xneY7aF3C9Cxwj1Wflof6U5K0Jhe9AExAqghaJ_7T5ky7ZGGaBHp8okSCHfLM1l1nnSHb4S5jNsBIk27Rpsxsl4NxuRkVn_X0-UbpInFHAaDF2cjdI9qmoFbjwgPqThfUjpUfBC8sPkSj6PER7romFGWGQIOgv13QM1FUKUMc4iyBv2Slh7L60ZJPkD1a8jckjltBKrcaxbiVTm3crzOuVFi2PGKnrRll8jMxryR8eB5Bwe5kk5PAC2Euu2GJAsfZopylzbIkM7_0sSvTUHk_I_PJ6MjQQMwbrrJzegNzam1iAn46geVB3ckl0t4h56gja0heoOkkLJR9TWkV0QLh8TpCAf41wS-4IukfsaF-SZwjcCsV3AfT1uCZyfXmFs_EoOFHnSQ.&box_client_name=box-content-preview&box_client_version=2.46.0\" alt=\"drawing\" width=\"400\"/>\n",
    "\n",
    "**Fuente :** [Aqueduct](https://files.wri.org/s3fs-public/aqueduct-30-updated-decision-relevant-global-water-risk-indicators_1.pdf)\n",
    "\n"
   ]
  },
  {
   "cell_type": "markdown",
   "metadata": {},
   "source": [
    "## 3.1 ¿Que Indicadores relevantes para la WaterFunds App?"
   ]
  },
  {
   "cell_type": "markdown",
   "metadata": {},
   "source": [
    "En concordancia con los objetivos planteados para la Water Funds App los indicadores que se considera son relevantes a incorporar son:"
   ]
  },
  {
   "cell_type": "markdown",
   "metadata": {},
   "source": [
    "**Indicadores de Riesgo Fisicos Asociados a Cantidad de Agua**\n",
    "- Indicador de Estrés Hidrico de Referencia\n",
    "- Indicador de Agotamiento Hidrico de Referencia\n",
    "- Indicador de Variabilidad Interanual\n",
    "- Indicador de Variabilidad estacional\n",
    "- Indicador de Disminución de la capa freática\n",
    "- Indicador de Riesgo de inundación fluvial\n",
    "- Indicador de Riesgo de sequía\n",
    "\n",
    "**Indicadores de Riesgo Fisicos Asociados a Calidad del Agua**\n",
    "- Indicador de Aguas residuales conectadas sin tratar\n",
    "\n",
    "**Indicadores asociados a regulación y reputación**\n",
    "- Indicador de Estrés Hidrico de Referencia\n",
    "- Indicador de Agotamiento Hidrico de Referencia\n",
    "- Indicador de Variabilidad Interanual"
   ]
  },
  {
   "cell_type": "markdown",
   "metadata": {},
   "source": [
    "## 4. ¿Como se ve en Water Funds App?"
   ]
  },
  {
   "cell_type": "markdown",
   "metadata": {},
   "source": [
    "Tomando en cuenta la categorización que presenta cada uno de los indicadores, en la App se debería ver  de la siguiente forma"
   ]
  },
  {
   "cell_type": "markdown",
   "metadata": {},
   "source": [
    "\n",
    "<img src=\"https://dl.boxcloud.com/api/2.0/internal_files/689895932428/versions/732573798028/representations/png_paged_2048x2048/content/1.png?access_token=1!-e97M4OA9gd38wNOGNahOd1qP0-bZXGdyIRd6VDkC-Gm6CDLwnVmgNtJtmBz6vVnhWncRVo_n5RX4qvRn9J9UxPwKCakAaZ6CUVrSj9f1Ik_3TBbpWzJPcvGkIUvWTeYuCryjz2aOU6FuI-UxldnSVX-ZZg_VTSTOIzh86kyk_is_-pWChim8hNX8EtyCy7jigjgPnA3x5MUGzKJov71W2l1EqAS6OLV1ao7u4zk3_agi9ryWYrIsYzV40i2FzWfpoO07xZTOetZFWR6mojh_tWWMYDfWp74VF5WH6zG0wlKd_wAZRDzDwENOFC8A-9TSzFA4xYa9X7LgVBVggLjNdRxTLfkxvv_fANqTldjgr_gtVtMcuaRNE8eY7J1IjiC8nzR19V7EAV-nNevO9dqEr3C6xmYyXRS5BnvcTd8rQVk-eogXcG_kibBbDenMTu1kTTjPRktsq-nPgcsZD_BzShOVCCNq27OqCrHZI0WgxqxiX3YpzhBBfPrRwxlbKUjcwCsrg1yNvCKKsfawGmrJGZ-GUi42XgL3wK-1KIZeZLMnZN6xsb_nePjvoj8dyC5cNIQOzqQ15y21raMPxth1EmbScFVfy7Kwv8-1hpRYb_qixh-AnW9FgyZRy3Zwa1Aq8IzXXNo6OZP7vHbZEzaBOo1F2yQHwEgXv79LlmBTLjJ7II.&box_client_name=box-content-preview&box_client_version=2.46.0\" alt=\"drawing\" width=\"800\"/>"
   ]
  },
  {
   "cell_type": "markdown",
   "metadata": {},
   "source": [
    "## 5. Flujo de trabajo en la WaterFunds App"
   ]
  },
  {
   "cell_type": "markdown",
   "metadata": {},
   "source": [
    "Los datos de Aqueduct se encuentran consolidados en un archivo shapefile el cual está dentro de la base de datos del sistema. En ese sentido, cuando el sistema delimite la cuenca o las cuencas objeto de análisis, debe recortar estos datos con la cuenca.\n",
    "Posterior a esto, se debe estimar el área de cada polígono, con el objetivo de seleccionar cual es el polígono con la mayor área para tomar los indicadores que tenga este en su metadato.\n",
    "Así pues, el sistema toma los metadatos de este polígono y los presenta un grafio de tacómetro tal como se presentó anteriormente "
   ]
  },
  {
   "attachments": {},
   "cell_type": "markdown",
   "metadata": {},
   "source": [
    "\n",
    "<img src=\"https://dl.boxcloud.com/api/2.0/internal_files/689939656539/versions/732621328539/representations/png_paged_2048x2048/content/1.png?access_token=1!cjnLVerYCtNdxwliV9mH47qI7endCqUYc_Q1qdaQTAW705f0GzNjHUBmpxeLWy9eWN_XR9lmMR639OIJjWfKwmDY7FdI6PGmakcibEwKk6Vd3nuta0h86wF9thZ8gkbzH_BkN6W84c7puvvTlllybQQFJVuQmtuqrO8TGQRj_JKS_VqxhVEnYiRUbPdwv-LyC9PN_B-MJpxj59NZLhfLriWRKghtZPLE_-tULrMj-gaCRwmeBtWtpR5iCOdHBDG4tDXi8VpYKY57c2St05vJdijTrppuXU8Jeb07r60PRPaoC8VaWFNHMrIkpyZjHckcAATJgTUBoTgtvDVNSKWfuro_tQB92ug3OO-MCWMMcUAqSP-VFtGRUsBy3vb3nMv2dhKliATHI_b-aC918877-sjNaiTXT4SccTHPoT-e6GlflE1BfqALlUA60ZRZimDTu3vYvGw0Sjp1Dt_trJMwuywOZE-3_lVHwzEBEl_Zb-8ortXhDZcT6_5aOvvyj3qTsJqpG5IAsM61M9ebGpMt5kicnQgicv3Jp3crYdInGesRSMtCFckd48pV-P5wXgAZOYvd9JFU-cCS8ZYJUEginIRKNS4yPDCxCKixs4qYCUfc1TvuA7Fp90cYM0FNkF0YHqnG752Tty2z4ChHHODwhmFZmLT7RHC8GUcR1OdoJMGm_io.&box_client_name=box-content-preview&box_client_version=2.46.0\" alt=\"drawing\" width=\"400\"/>"
   ]
  },
  {
   "cell_type": "markdown",
   "metadata": {},
   "source": [
    "La base de datos de Aqueduct presenta múltiples conjuntos de datos de riesgo relacionados con el agua::\n",
    "\n",
    "1. Línea de base anual\n",
    "1. Línea de base mensual\n",
    "1. Proyecciones futuras.\n",
    "\n",
    "Los datos pueden ser descargados de [Datos de Aqueduct](https://wri-projects.s3.amazonaws.com/Aqueduct30/finalData/Y2019M07D12_Aqueduct30_V01.zip)\n",
    "\n",
    "## Baseline Annual\n",
    "\n",
    "Las columnas (atributos o campos) en los resultados de la línea de base anual se agrupan en \"identificadores\", \"indicadores\" y \"riesgo de agua agrupado\".\n",
    "\n",
    "### Identificadores:  \n",
    "\n",
    "|Símbolo | Tipo de dato | Descripción |\n",
    "|------------------ | ------------- | ----- |\n",
    "| **string_id** | (string) | Contiene una cadena única para cada geometría. Las geometrías son la unión de cuencas hidrológicas, provincias y acuíferos subterráneos. String_id es una combinación de pfaf_id-gid_1-aqid|\n",
    "| **aq30_id** | (entero) | Identificador único en formato numérico.\n",
    "| **pfaf_id** | (entero) | Código Pfafstetter de seis dígitos para las [cuencas hidrológicas](https://hydrosheds.org/page/hydrobasins).\n",
    "| **gid_1** | (cadena) | Identificador para unidades subnacionales basado en el conjunto de datos [GADM] (https://gadm.org/data.html). Contiene el código de país Iso A3, seguido de valores numéricos separados por guiones bajos para cada unidad subnacional.\n",
    "| **aqid** | (entero) | Identificador para acuíferos subterráneos basado en WHYMAP.\n",
    "| **gid_0** | (cadena) | Código de país ISO A3 basado en [GADM](https://gadm.org/data.html).\n",
    "| **name_0** | (cadena) | Nombre de entidad nacional o política basado en [GADM](https://gadm.org/data.html).\n",
    "| **name_1** | (cadena) | Nombre de entidad política o subnacional basado en [GADM](https://gadm.org/data.html).\n",
    "| **area_km2** | (doble) | Área de la geometría en km2 (unión de subcuenca, provincia y acuífero subterráneo).\n",
    "\n",
    "### Indicadores: \n",
    "\n",
    "Para cada uno de los 13 indicadores, las columnas contienen la abreviatura del indicador más el tipo {indicador}\\_{tipo}, por ejemplo:\n",
    "\n",
    "\"bws_raw\" es el estrés hídrico de referencia, el valor bruto. Las abreviaturas y tipos de indicadores se enumeran a continuación.    \n",
    "    \n",
    "#### Indicadores de Riesgo Fisicos Asociados a Cantidad de Agua: \n",
    "| Símbolo     | Descripción |\n",
    "|-------------|-----|\n",
    "|**bws**| Estrés Hidrico de Referencia|  \n",
    "|**bwd**| Agotamiento Hidrico de Referencia|  \n",
    "|**iav**| Variabilidad Interanual|  \n",
    "|**sev**| Variabilidad Estacional|  \n",
    "|**gtd**| Disminución de la Capa Freática|  \n",
    "|**rfr**| Riesgo de inundación fluvial|  \n",
    "|**cfr**| Riesgo de inundación costera|  \n",
    "|**drr**| Riesgo de sequía|\n",
    "\n",
    "#### Physical risk quality:\n",
    "| Símbolo     | Descripción |\n",
    "|-------------|-----|\n",
    "|**ucw**| Aguas residuales conectadas sin tratar|  \n",
    "|**cep**| Potencial de eutrofización costera|\n",
    "\n",
    "#### Regulatory and reputational risk:\n",
    "| Símbolo     | Descripción |\n",
    "|-------------|-----|\n",
    "|**udw**| Indicador de Estrés Hidrico de Referencia|    \n",
    "|**usa**| Indicador de Agotamiento Hidrico de Referencia|  \n",
    "|**rri**| Indicadodor de Variabilidad Interanual|  \n",
    "\n",
    "### Tipos:  \n",
    "| Símbolo | Tipo de dato | Descripción |\n",
    "| ------------------ | ------------- | ----- |\n",
    "| **\\_raw** | (doble) | valor bruto. Las unidades dependen del indicador.\n",
    "| **\\_score** | (doble) | cada indicador se asigna a una escala [0-5].\n",
    "| **\\_label** | (cadena) | Etiqueta que explica la categoría del indicador, incluido el umbral. p.ej. \"Extremadamente alto (más de 1 de cada 100)\".\n",
    "| **\\_cat** | (entero) | entero para cada categoría [-1,4], se puede utilizar para imágenes.\n",
    "\n",
    "\n",
    "### Riesgo Hídrico Agrupado\n",
    "Los puntajes de riesgo de agua agrupados utilizan el siguiente formato:\n",
    "\n",
    "- w_awr_{weightingscheme}\\_{group}\\_{type}\n",
    "\n",
    "- w_awr, significa riesgo hidrico agregado ponderado. Se usa principalmente para mantenerlos separados de los indicadores restantes.\n",
    "\n",
    "- p.ej. w_awr_min_rrr_score es el puntaje agregado que utiliza el esquema de ponderación de minería para el grupo de riesgo regulatorio y de reputación.\n",
    "\n",
    "\n",
    "#### Esquema de ponderación\n",
    "| Símbolo     | Descripción |\n",
    "|-------------|-----|\n",
    "|**def**| Predeterminado |\n",
    "|**agr**| Agricultura |\n",
    "|**che**| Productos quimicos |\n",
    "|**con**| Materiales de construcción |\n",
    "|**elp**| Energía eléctrica |\n",
    "|**fnb**| Alimentos y Bebidas |\n",
    "|**min**| Minería |\n",
    "|**ong**| Petróleo y gas |\n",
    "|**smc**| Semiconductor |\n",
    "|**tex**| Textil |\n",
    "\n",
    "#### Grupos\n",
    "| Símbolo     | Descripción |\n",
    "|-------------|-----|\n",
    "|**qan** | Cantidad de riesgo físico |\n",
    "|**qal** | Calidad de riesgo físico |\n",
    "|**rrr** | Riesgo regulatorio y reputacional |\n",
    "|**tot** | Total, riesgo general de agua. El |\n",
    "\n",
    "#### Tipos\n",
    "| Símbolo | Tipo de dato | Descripción |\n",
    "| ------------------ | ------------- | ----- |\n",
    "| **\\_raw** | (doble) | valor bruto en escala 0-5. Resultado del enfoque compuesto ponderado |\n",
    "| **\\_score** | (doble) | puntaje [0-5], resultado de aplicar un enfoque cuantil a los valores brutos|\n",
    "| **\\_label** | (cadena) | Etiqueta que explica la categoría del riesgo de agua agrupado.\n",
    "| **\\_cat** | (entero) | Entero para cada categoría [-1,4], se puede utilizar para imágenes.\n",
    "| **\\_weight_fraction** | (doble) | la fracción [0-1] del grupo hacia el puntaje general de riesgo de agua. NoData está excluido de los pesos y, por lo tanto, las fracciones pueden ser inferiores a 1 dependiendo de la disponibilidad de datos.|\n",
    "\n",
    "\n",
    "#### Interpolación lineal de cuantiles. \n",
    "Aggregating multiple scores will change the distribution of the data. Therefore we calculate the quantiles and use linear interpolation to remap the raw values to 0-5 scores. The quantiles can be obtained from the data but are also listed below. \n",
    "\n",
    "Agregar múltiples puntajes cambia la distribución de los datos. Por lo tanto, en aqueduct se calcula los cuantiles y usa interpolación lineal para reasignar los valores brutos a puntajes de 0-5. Los cuantiles se obtienen de los datos, pero también se enumeran a continuación.\n",
    "\n",
    "| percentil  | puntuación | cantidad | calidad | regulatorio y reputacional | Total |\n",
    "|------------|-------|----------|---------|-----------------------------|---------|\n",
    "| 0          | 0     | 0.00     | 0.00    | 0.00                        | 0.00    |\n",
    "| 0.2        | 1     | 0.72     | 1.45    | 0.30                        | 1.01    |\n",
    "| 0.4        | 2     | 1.09     | 2.20    | 1.39                        | 1.61    |\n",
    "| 0.6        | 3     | 1.60     | 2.92    | 2.81                        | 2.10    |\n",
    "| 0.8        | 4     | 2.34     | 3.83    | 3.93                        | 2.68    |\n",
    "| 1          | 5     | 5.00     | 5.00    | 5.00                        | 5.00    |\n",
    "\n",
    "\n",
    "## Línea Base Mensual\n",
    "\n",
    "\n",
    "## Identificadores:  \n",
    "| Símbolo | Tipo de dato | Descripción |\n",
    "| ------------------ | ------------- | ----- |\n",
    "|**pfaf_id**| (integer)| código Pfafstetter de seis dígitos para las cuencas hidrológicas|\n",
    "|**month**| (integer)| Mes del año|\n",
    "\n",
    "## Indicadores: \n",
    "| Símbolo     | Descripción |\n",
    "|-------------|-----|\n",
    "|**bws**| estrés hídrico de referencia|\n",
    "|**bwd**| agotamiento del agua de referencia|\n",
    "|**iav**| variabilidad interanual|\n",
    "\n",
    "## Tipos:  \n",
    "| Símbolo | Tipo de dato | Descripción |\n",
    "| ------------------ | ------------- | ----- |\n",
    "|**\\_raw**| doble| valor bruto. Las unidades dependen del indicador. Ver la nota técnica|\n",
    "|**\\_score**| doble| cada indicador se asigna a una escala [0-5]|\n",
    "|**\\_label**| string| una etiqueta que explica la categoría del indicador, incluido el umbral. p.ej. \"Extremadamente alto (más de 1 en 100)\"|\n",
    "|**\\_cat**| integer| entero para cada categoría [-1,4], se puede usar para imágenes|\n",
    "\n",
    "\n",
    "## Proyecciones Futuras\n",
    "Las columnas (atributos o campos) en los resultados de las proyecciones futuras se agrupan en \"identificadores\" e \"indicadores\". [Ver Documento Metodológico](https://www.wri.org/publication/aqueduct-water-stress-projections-decadal-projections-water-supply-and-demand-using)\n",
    "\n",
    "## Identificadores \n",
    "| Símbolo | Tipo de dato | Descripción |\n",
    "| ------------------ | ------------- | ----- |\n",
    "|**BasinID**| entero| identificadores de subcuenca|\n",
    "|**dwnBasinID**| entero| siguiente subcuenca aguas abajo|\n",
    "|**Area_km2**| doble| Área de subcuenca en kilómetro cuadrado|\n",
    "|**Shape_Leng**| doble| perímetro de la subcuenca en kilómetro|  \n",
    "\t\n",
    "## Indicadores\n",
    "Hay cuatro indicadores, tres años objetivo, tres escenarios, tres tipos de datos.\n",
    "\n",
    "Los indicadores usan el siguiente formato:\n",
    "{II} {YY} {SS} {R} {X}\n",
    "\n",
    "| Símbolo     | Descripción |\n",
    "|-------------|-----|\n",
    "|**II**| código indicador|\n",
    "|**AA**| código del año|\n",
    "|**SS**| código del escenario|\n",
    "|**T**|código del tipo de dato|\n",
    "|**X**| sufijo|\n",
    "\n",
    "### {II}\tCódigo indicador \n",
    "| Símbolo     | Descripción |\n",
    "|-------------|-----|\n",
    "|**ws** | estrés hídrico |\n",
    "|**sv** | variabilidad estacional |\n",
    "|**ut** | demanda de agua |\n",
    "|**bt** | suministro de agua |\n",
    "\t\n",
    "### {YY}\tCódigo del año \n",
    "| Símbolo     | Descripción |\n",
    "|-------------|-----|\n",
    "|**20**|\t2020  |\n",
    "|**30**|\t2030  |\n",
    "|**40**|\t2040  |\n",
    "\t\n",
    "### {SS}\tCódigo del escenario  \n",
    "| Símbolo     | Descripción |\n",
    "|-------------|-----|\n",
    "|**24**|\tssp2 rcp45 (optimistic)  |\n",
    "|**28**|\tssp2 rcp85 (business as usual)  |\n",
    "|**38**|\tssp3 rcp85 (pessimistic)  |\n",
    "\t\n",
    "### {T}\t  Código del tipo de dato\n",
    "| Símbolo     | Descripción |\n",
    "|-------------|-----|\n",
    "|**c** | cambio desde la línea de base|\n",
    "|**t** | valor futuro|\n",
    "|**u** | valor de incertidumbre (disponible para variabilidad estacional y suministro de agua)|\n",
    "\t\n",
    "### {X}\tSufijo  \n",
    "| Símbolo     | Descripción |\n",
    "|-------------|-----|\n",
    "|**l** | cadena de etiqueta|\n",
    "|**r** | valor bruto|\n",
    "\n",
    "### Unidades\n",
    "Las unidades dependen de la combinación de las opciones anteriores. Las unidades son [m/a] para ut, bt valor futuro y sin dimensiones para ws y sv respectivamente. Otras unidades se explican por sí mismas.\n",
    "\n",
    "Por ejemplo, la capa {ws4028cl} es \"el cambio proyectado en el estrés hídrico para el año 2040 en un escenario de negocios (ssp2 rcp85)\"\n"
   ]
  },
  {
   "cell_type": "markdown",
   "metadata": {},
   "source": [
    "## ¿Como se debe citar esta base de datos?"
   ]
  },
  {
   "cell_type": "markdown",
   "metadata": {},
   "source": [
    "Hofste, R., S. Kuzma, S. Walker, E.H.\n",
    "Sutanudjaja, et. al. 2019. “Aqueduct 3.0: Updated DecisionRelevant Global Water Risk Indicators.” Technical Note.\n",
    "Washington, DC: World Resources Institute. Available online at:\n",
    "https://www.wri.org/publication/aqueduct-30."
   ]
  }
 ],
 "metadata": {
  "kernelspec": {
   "display_name": "Python 3",
   "language": "python",
   "name": "python3"
  },
  "language_info": {
   "codemirror_mode": {
    "name": "ipython",
    "version": 3
   },
   "file_extension": ".py",
   "mimetype": "text/x-python",
   "name": "python",
   "nbconvert_exporter": "python",
   "pygments_lexer": "ipython3",
   "version": "3.7.6"
  }
 },
 "nbformat": 4,
 "nbformat_minor": 4
}
