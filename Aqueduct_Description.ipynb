{
 "cells": [
  {
   "cell_type": "markdown",
   "metadata": {},
   "source": [
    "# Indicadores de Riesgo Hidrico a Incorporar en WaterFunds App           (Aqueduct Global Maps 3.0 Data)"
   ]
  },
  {
   "cell_type": "markdown",
   "metadata": {},
   "source": [
    "<img src=\"https://tnc.box.com/shared/static/n1yas78l3chdciev45n95ig6e4iq34wu.png\" alt=\"drawing\" width=\"800\" height=\"1000\"/>"
   ]
  },
  {
   "cell_type": "markdown",
   "metadata": {},
   "source": [
    "El presente documento contiene una breve síntesis de que es Aqueduct, cuáles son los indicadores que integran esta base de datos y que indicadores se deberían incorporar la WaterFunds App"
   ]
  },
  {
   "cell_type": "markdown",
   "metadata": {},
   "source": [
    "## 1. ¿Que es Aqueduct?"
   ]
  },
  {
   "cell_type": "markdown",
   "metadata": {},
   "source": [
    "Aqueduct es una base de datos creada por el [**World Resoruce Institute**](https://www.wri.org/) en respuesta a las crecientes preocupaciones del sector privado y otros actores sobre la disponibilidad de agua, la calidad del agua, el cambio climático y la creciente demanda. Aqueduct integra una serie de indicadores compuestos que permiten comparar los riesgos relacionados con el agua desde una perspectiva macro.\n",
    "\n",
    "Si lector quiere tener un mayor conocimiento de Aqueduct puede remitirse al [Documento Técnico de Aqueduct 3.0](https://files.wri.org/s3fs-public/aqueduct-30-updated-decision-relevant-global-water-risk-indicators_1.pdf)"
   ]
  },
  {
   "cell_type": "markdown",
   "metadata": {},
   "source": [
    "## 2. ¿Cuales son los indicadores que integra Aqueduct?"
   ]
  },
  {
   "cell_type": "markdown",
   "metadata": {},
   "source": [
    "Aqueduct consolida un total de 13 indicadores los cuales se encuentran agrupados en tres niveles jerárquicos, de acuerdo con la información que brinda el indicador. En la Figura se presentan los indicadores de Aqueduct agrupados por categoría.\n",
    "![asdasd](https://tnc.box.com/s/ox56y86ysvglp4ffqlta3t9ixtj6rpl8)"
   ]
  },
  {
   "cell_type": "markdown",
   "metadata": {},
   "source": [
    "<img src=\"https://tnc.box.com/shared/static/yqc4ijowthhq0i3xvu2330t769cuvjuv.png\" width=\"800\"/>\n",
    "\n",
    "**Fuente :** [Aqueduct](https://files.wri.org/s3fs-public/aqueduct-30-updated-decision-relevant-global-water-risk-indicators_1.pdf)"
   ]
  },
  {
   "cell_type": "markdown",
   "metadata": {},
   "source": [
    "A continuación se describen cada una o de los indicadores que pertenece a cada categoría."
   ]
  },
  {
   "cell_type": "markdown",
   "metadata": {},
   "source": [
    "### 2.1 Indicadores de Riesgo Fisicos Asociados a Cantidad de Agua"
   ]
  },
  {
   "cell_type": "markdown",
   "metadata": {},
   "source": [
    "#### 2.1.1 Estrés Hidrico de Referencia\n",
    "\n",
    "Este indicador mide la relación entre las extracciones totales de agua y los suministros renovables disponibles de agua superficial y subterránea. Para la estimacion, se tiene en cuenta los usos consuntivos y no consitvos domésticos, industriales, agricolas y pecuarios. Los suministros de agua renovables disponibles incluyen el impacto de los usuarios de agua de consumo aguas arriba y grandes represas en la disponibilidad de agua río abajo. Valores altos en este indicador expresan mayor competencia entre los usuarios.\n",
    "\n",
    "Este indicador se estima a nivel mensual y anual. La categorización para le nivel de riesgo que tiene este indicador se muestra a continuación:\n",
    "\n",
    "<img src=\"https://tnc.box.com/shared/static/ox56y86ysvglp4ffqlta3t9ixtj6rpl8.png\" alt=\"drawing\" width=\"400\"/>\n",
    "\n",
    "**Fuente :** [Aqueduct](https://files.wri.org/s3fs-public/aqueduct-30-updated-decision-relevant-global-water-risk-indicators_1.pdf)\n"
   ]
  },
  {
   "cell_type": "markdown",
   "metadata": {},
   "source": [
    "#### 2.1.2 Agotamiento Hidrico de Referencia\n",
    "Este indicador mide la relación del consumo total de agua con el suministro de agua renovable disponible. El consumo total de agua incluye usos domésticos, industriales, de riego y pecuario. Los suministros de agua renovables disponibles incluyen el impacto de los usuarios de agua de consumo aguas arriba y grandes represas en la disponibilidad de agua río abajo. Valores altos en este indicador expresan un mayor impacto en el suministro de agua local y una menor disponibilidad de agua para los usuarios intermedios.\n",
    "\n",
    "Este indicador se estima a nivel mensual y anual. La categorización para le nivel de riesgo que tiene este indicador se muestra a continuación:\n",
    "\n",
    "<img src=\"https://tnc.box.com/shared/static/ontbq9blikjgjnl5r0i02ldgwoj50x2b.png\" alt=\"drawing\" width=\"400\"/>\n",
    "\n",
    "**Fuente :** [Aqueduct](https://files.wri.org/s3fs-public/aqueduct-30-updated-decision-relevant-global-water-risk-indicators_1.pdf)"
   ]
  },
  {
   "cell_type": "markdown",
   "metadata": {},
   "source": [
    "#### 2.1.3 Variabilidad Interanual\n",
    "\n",
    "La variabilidad interanual mide la variabilidad promedio entre años del suministro de agua disponible, incluidos los suministros renovables de agua superficial y subterránea. Valores altos en este indicador expresan mayores variaciones más amplias en la oferta disponible de año en año.\n",
    "\n",
    "Este indicador se estima a nivel mensual y anual. La categorización para le nivel de riesgo que tiene este indicador se muestra a continuación:\n",
    "\n",
    "<img src=\"https://tnc.box.com/shared/static/fjajn6wcsvkayr8n61yt6ogf4t0qwjol.png\" alt=\"drawing\" width=\"400\"/>\n",
    "\n",
    "**Fuente :** [Aqueduct](https://files.wri.org/s3fs-public/aqueduct-30-updated-decision-relevant-global-water-risk-indicators_1.pdf)"
   ]
  },
  {
   "cell_type": "markdown",
   "metadata": {},
   "source": [
    "#### 2.1.4 Variabilidad Estacional\n",
    "\n",
    "Este indicador mide la variabilidad promedio dentro del año del suministro de agua disponible, incluidos los suministros renovables de agua superficial y subterránea. Valores altos en este indicador expresan mayores variaciones más amplias de la oferta disponible dentro de un año.\n",
    "\n",
    "Este indicador se estima a nivel anual. La categorización para le nivel de riesgo que tiene este indicador se muestra a continuación:\n",
    "\n",
    "<img src=\"https://tnc.box.com/shared/static/ockckrq2i1u9w9pf86pzny6ujbhhqxie.png\" alt=\"drawing\" width=\"400\"/>\n",
    "\n",
    "**Fuente :** [Aqueduct](https://files.wri.org/s3fs-public/aqueduct-30-updated-decision-relevant-global-water-risk-indicators_1.pdf)"
   ]
  },
  {
   "cell_type": "markdown",
   "metadata": {},
   "source": [
    "#### 2.1.5 Indicador de Amenaza por disminución del nivel Freático\n",
    "\n",
    "Este indicador mide la disminución promedio de la capa freática como el cambio promedio para el período de estudio (1990–2014). El resultado se expresa en centímetros por año (cm/año). Valores altos en este indicador expresan mayores niveles de extracción de agua subterránea insostenible.\n",
    "\n",
    "Este indicador se estima a nivel anual. La categorización para le nivel de riesgo que tiene este indicador se muestra a continuación:\n",
    "\n",
    "<img src=\"https://tnc.box.com/shared/static/xi2msgr2g18cdjprnl1ssi1n7tbz44jw.png\" alt=\"drawing\" width=\"400\"/>\n",
    "\n",
    "**Fuente :** [Aqueduct](https://files.wri.org/s3fs-public/aqueduct-30-updated-decision-relevant-global-water-risk-indicators_1.pdf)\n"
   ]
  },
  {
   "cell_type": "markdown",
   "metadata": {},
   "source": [
    "#### 2.1.6 Indicador de Riesgo de Inundación Fluvial\n",
    "\n",
    "Este indicador mide el porcentaje de población que se espera que se vea afectado por las inundaciones fluviales en un año promedio, lo que representa los estándares de protección contra inundaciones existentes. El riesgo de inundación se evalúa utilizando el peligro (inundación causada por el desbordamiento del río), la exposición (población en la zona de inundación) y la vulnerabilidad. El nivel existente de protección contra inundaciones también se incorpora al cálculo del riesgo. Es importante tener en cuenta que este indicador representa el riesgo de inundación no en términos del impacto máximo posible sino más bien como el impacto anual promedio. Los impactos de los años de inundación poco frecuentes y extremos se promedian con años de inundación más comunes y menos noticiosos para producir la \"población afectada anual esperada\". Valores altos en este indicador expresan que se espera que una mayor proporción de la población se vea afectada por las inundaciones fluviales en promedio.\n",
    "\n",
    "Este indicador se estima a nivel anual. La categorización para le nivel de riesgo que tiene este indicador se muestra a continuación:\n",
    "\n",
    "<img src=\"https://tnc.box.com/shared/static/1af6zitt6qdsvfadfed3mvxqei047023.png\" alt=\"drawing\" width=\"400\"/>\n",
    "\n",
    "**Fuente :** [Aqueduct](https://files.wri.org/s3fs-public/aqueduct-30-updated-decision-relevant-global-water-risk-indicators_1.pdf)"
   ]
  },
  {
   "cell_type": "markdown",
   "metadata": {},
   "source": [
    "#### 2.1.7 Indicador de Riesgo de inundación costera\n",
    "\n",
    "Este indicador mide el porcentaje de la población que se espera que se vea afectada por las inundaciones costeras en un año promedio, teniendo en cuenta las normas de protección contra inundaciones existentes. El riesgo de inundación se evalúa utilizando el peligro (inundación causada por la marejada ciclónica), la exposición (población en la zona de inundación) y la vulnerabilidad.17 El nivel existente de protección contra inundaciones también se incorpora al cálculo del riesgo. Es importante tener en cuenta que este indicador representa el riesgo de inundación no en términos del impacto máximo posible sino más bien como el impacto anual promedio. Los impactos de los años de inundación poco frecuentes y extremos se promedian con años de inundación más comunes y menos noticiosos para producir la \"población afectada anual esperada\". Valores altos en este indicador expresan una mayor proporción de la población se verá afectada por las inundaciones costeras en promedio\n",
    "\n",
    "Este indicador se estima a nivel anual. La categorización para le nivel de riesgo que tiene este indicador se muestra a continuación:\n",
    "\n",
    "<img src=\"https://tnc.box.com/shared/static/p7xhd894biezhjd9gtqz4jka20g6z7s5.png\" alt=\"drawing\" width=\"400\"/>\n",
    "\n",
    "**Fuente :** [Aqueduct](https://files.wri.org/s3fs-public/aqueduct-30-updated-decision-relevant-global-water-risk-indicators_1.pdf)"
   ]
  },
  {
   "cell_type": "markdown",
   "metadata": {},
   "source": [
    "#### 2.1.8 Indicador de Riesgo de sequía\n",
    "\n",
    "Este indicador mide donde es probable que ocurran sequías, la población y los activos expuestos, y la vulnerabilidad de la población y los activos a los efectos adversos. Los valores más altos indican un mayor riesgo de sequía.\n",
    "\n",
    "Este indicador se estima a nivel anual. La categorización para le nivel de riesgo que tiene este indicador se muestra a continuación:\n",
    "\n",
    "<img src=\"https://tnc.box.com/shared/static/eg7ivke801zg5nfyw04be8zscmozy0ve.png\" alt=\"drawing\" width=\"400\"/>\n",
    "\n",
    "**Fuente :** [Aqueduct](https://files.wri.org/s3fs-public/aqueduct-30-updated-decision-relevant-global-water-risk-indicators_1.pdf)"
   ]
  },
  {
   "cell_type": "markdown",
   "metadata": {},
   "source": [
    "### 2.2 Riesgo Fisicos asociados a calidad del agua"
   ]
  },
  {
   "cell_type": "markdown",
   "metadata": {},
   "source": [
    "#### 2.2.1 Indicador de Amaneza por Aguas Residuales Conectadas no Tratadas\n",
    "\n",
    "Este indicador miden el porcentaje de aguas residuales domésticas que se conectan a través de un sistema de alcantarillado y no se tratan al menos a un nivel de tratamiento primario. La descarga de aguas residuales sin un tratamiento adecuado podría exponer los cuerpos de agua, el público en general y los ecosistemas a contaminantes como patógenos y nutrientes. El indicador compone dos elementos cruciales de la gestión de aguas residuales: conexión y tratamiento. Las bajas tasas de conexión reflejan la falta de acceso de los hogares a los sistemas públicos de alcantarillado; la ausencia de al menos un tratamiento primario refleja la falta de capacidad de un país (infraestructura, conocimiento institucional) para tratar las aguas residuales. Juntos, estos factores pueden indicar el nivel de capacidad actual de un país para gestionar sus aguas residuales domésticas a través de dos vías principales: tasas de conexión extremadamente bajas (menos del 1 por ciento) y altas tasas de conexión con poco tratamiento. Los valores más altos indican porcentajes más altos de aguas residuales de fuente puntual descargadas sin tratamiento.\n",
    "\n",
    "Este indicador se estima a nivel anual. La categorización para le nivel de riesgo que tiene este indicador se muestra a continuación:\n",
    "\n",
    "<img src=\"https://tnc.box.com/shared/static/zo6i3pwk6sr8pnmliw0brj1tklrtqkza.png\" alt=\"drawing\" width=\"400\"/>\n",
    "\n",
    "**Fuente :** [Aqueduct](https://files.wri.org/s3fs-public/aqueduct-30-updated-decision-relevant-global-water-risk-indicators_1.pdf)"
   ]
  },
  {
   "cell_type": "markdown",
   "metadata": {},
   "source": [
    "#### 2.2.2 Indicador de Amenaza por Potencial de Eutrofización Costera\n",
    "\n",
    "Este indicador mide el potencial de las cargas fluviales de nitrógeno (N), fósforo (P) y sílice (Si) para estimular la proliferación de algas nocivas en las aguas costeras. El indicador CEP es una métrica útil para mapear dónde las actividades antropogénicas producen suficiente contaminación de fuente puntual y no puntual para degradar potencialmente el medio ambiente. Cuando N y P se descargan en exceso sobre Si con respecto a las diatomeas, un tipo principal de algas, a menudo se desarrollan especies de algas indeseables. La estimulación de las algas que conducen a grandes floraciones a su vez puede provocar eutrofización e hipoxia (crecimiento biológico excesivo y descomposición que reduce el oxígeno disponible para otros organismos). Por lo tanto, es posible evaluar el potencial de eutrofización costera de la carga de N, P y Si de un río. Los valores más altos indican niveles más altos de exceso de nutrientes con respecto a la sílice, creando condiciones más favorables para el crecimiento de algas nocivas y la eutrofización en las aguas costeras aguas abajo.\n",
    "\n",
    "Este indicador se estima a nivel anual. La categorización para le nivel de riesgo que tiene este indicador se muestra a continuación:\n",
    "\n",
    "<img src=\"https://tnc.box.com/shared/static/uvmm6wlme3n5g4bhls2xctyk1yyi2mqz.png\" alt=\"drawing\" width=\"400\"/>\n",
    "\n",
    "**Fuente :** [Aqueduct](https://files.wri.org/s3fs-public/aqueduct-30-updated-decision-relevant-global-water-risk-indicators_1.pdf)"
   ]
  },
  {
   "cell_type": "markdown",
   "metadata": {},
   "source": [
    "### 2.3 Riesgo asociados a regulación y reputación"
   ]
  },
  {
   "cell_type": "markdown",
   "metadata": {},
   "source": [
    "#### 2.3.1 Indicador de Amaneza por Agua Potable No Mejorada/No Refleja\n",
    "\n",
    "Este indicador mide el porcentaje de la población que recoge agua potable de un pozo excavado sin protección o manantial, o directamente de un río, presa, lago, estanque, arroyo, canal o canal de riego (OMS y UNICEF 2017). Específicamente, el indicador se alinea con las categorías de aguas superficiales y no mejoradas del Programa de Monitoreo Conjunto (JMP), los niveles más bajos de los servicios de agua potable. Los valores más altos indican áreas donde las personas tienen menos acceso a suministros de agua potable.\n",
    "\n",
    "Este indicador se estima a nivel anual. La categorización para le nivel de riesgo que tiene este indicador se muestra a continuación:\n",
    "\n",
    "<img src=\"https://tnc.box.com/shared/static/sqddn92nc0d6ccbnb73k7latul11r3h9.png\" alt=\"drawing\" width=\"400\"/>\n",
    "\n",
    "**Fuente :** [Aqueduct](https://files.wri.org/s3fs-public/aqueduct-30-updated-decision-relevant-global-water-risk-indicators_1.pdf)"
   ]
  },
  {
   "cell_type": "markdown",
   "metadata": {},
   "source": [
    "#### 2.3.2 Indicador de Amenaza por Agua Sin Mejora/Sin Saneamiento\n",
    "\n",
    "Este indicador el porcentaje de la población que usa letrinas de pozo sin una losa o plataforma, letrinas colgantes / balde, o directamente eliminando desechos humanos en campos, bosques, arbustos, cuerpos de agua abiertos, playas, otros espacios abiertos, o con sólidos Residuos (OMS y UNICEF 2017). Específicamente, el indicador se alinea con las categorías de defecación abierta y no mejoradas de JMP, el nivel más bajo de servicios de saneamiento. Los valores más altos indican áreas donde las personas tienen menos acceso a servicios de saneamiento mejorados.\n",
    "\n",
    "Este indicador se estima a nivel anual. La categorización para le nivel de riesgo que tiene este indicador se muestra a continuación:\n",
    "\n",
    "<img src=\"https://tnc.box.com/shared/static/gp4r9bad78pqd6o5qpamhuyv2ddnhlzv.png\" alt=\"drawing\" width=\"400\"/>\n",
    "\n",
    "**Fuente :** [Aqueduct](https://files.wri.org/s3fs-public/aqueduct-30-updated-decision-relevant-global-water-risk-indicators_1.pdf)\n",
    "\n"
   ]
  },
  {
   "cell_type": "markdown",
   "metadata": {},
   "source": [
    "#### 2.3.3 Índice de riesgo pico de RepRisk Country ESG\n",
    "\n",
    "Este indicador cuantifica la exposición al riesgo de conducta empresarial relacionada con cuestiones ambientales, sociales y de gobierno (ESG) en el país correspondiente. El índice proporciona información sobre posibles riesgos financieros, de reputación y de cumplimiento, como las violaciones de los derechos humanos y la destrucción del medio ambiente. RepRisk es un proveedor líder de inteligencia de negocios que se especializa en ESG e investigación de riesgos de conducta empresarial para empresas, proyectos, sectores, países, problemas de ESG, ONG y más, al aprovechar la inteligencia artificial y el análisis humano en 20 idiomas. WRI ha elegido incluir el índice de riesgo ESG del país Peak RepRisk en el Acueducto para reflejar los riesgos regulatorios y de reputación más amplios que pueden amenazar la cantidad, la calidad y el acceso al agua. Si bien el algoritmo subyacente es propietario, creemos que nuestra inclusión del índice de riesgo ESG del país Peak RepRisk, que normalmente no está disponible para el público, es un valor agregado para la comunidad de Acueducto. El valor máximo es igual al nivel más alto del índice en un país determinado en los últimos dos años. Cuanto mayor es el valor, mayor es la exposición al riesgo.\n",
    "\n",
    "Este indicador se estima a nivel anual. La categorización para le nivel de riesgo que tiene este indicador se muestra a continuación:\n",
    "\n",
    "<img src=\"https://tnc.box.com/shared/static/j95oytsx0a7a7499urav7dtm3m0yh4i7.png\" alt=\"drawing\" width=\"400\"/>\n",
    "\n",
    "**Fuente :** [Aqueduct](https://files.wri.org/s3fs-public/aqueduct-30-updated-decision-relevant-global-water-risk-indicators_1.pdf)\n",
    "\n"
   ]
  },
  {
   "cell_type": "markdown",
   "metadata": {},
   "source": [
    "## 3.1 ¿Que Indicadores relevantes para la WaterFunds App?"
   ]
  },
  {
   "cell_type": "markdown",
   "metadata": {},
   "source": [
    "En concordancia con los objetivos planteados para la Water Funds App los indicadores que se considera son relevantes a incorporar son:"
   ]
  },
  {
   "cell_type": "markdown",
   "metadata": {},
   "source": [
    "**Indicadores de Riesgo Fisicos Asociados a Cantidad de Agua**\n",
    "- Indicador de Estrés Hidrico de Referencia\n",
    "- Indicador de Agotamiento Hidrico de Referencia\n",
    "- Indicador de Variabilidad Interanual\n",
    "- Indicador de Variabilidad estacional\n",
    "- Indicador de Disminución de la capa freática\n",
    "- Indicador de Riesgo de inundación fluvial\n",
    "- Indicador de Riesgo de sequía\n",
    "\n",
    "**Indicadores de Riesgo Fisicos Asociados a Calidad del Agua**\n",
    "- Indicador de Aguas residuales conectadas sin tratar\n",
    "\n",
    "**Indicadores asociados a regulación y reputación**\n",
    "- Indicador de Estrés Hidrico de Referencia\n",
    "- Indicador de Agotamiento Hidrico de Referencia\n",
    "- Indicador de Variabilidad Interanual"
   ]
  },
  {
   "cell_type": "markdown",
   "metadata": {},
   "source": [
    "## 4. ¿Como se ve en Water Funds App?"
   ]
  },
  {
   "cell_type": "markdown",
   "metadata": {},
   "source": [
    "Tomando en cuenta la categorización que presenta cada uno de los indicadores, en la App se debería ver  de la siguiente forma"
   ]
  },
  {
   "cell_type": "markdown",
   "metadata": {},
   "source": [
    "\n",
    "<img src=\"https://tnc.box.com/shared/static/cvifoktcukmhrc3u6cyp9kz93t067v50.png\" alt=\"drawing\" width=\"800\"/>"
   ]
  },
  {
   "cell_type": "markdown",
   "metadata": {},
   "source": [
    "## 5. Flujo de trabajo en la WaterFunds App"
   ]
  },
  {
   "cell_type": "markdown",
   "metadata": {},
   "source": [
    "Los datos de Aqueduct se encuentran consolidados en un archivo shapefile el cual está dentro de la base de datos del sistema. En ese sentido, cuando el sistema delimite la cuenca o las cuencas objeto de análisis, debe recortar estos datos con la cuenca.\n",
    "Posterior a esto, se debe estimar el área de cada polígono, con el objetivo de seleccionar cual es el polígono con la mayor área para tomar los indicadores que tenga este en su metadato.\n",
    "Así pues, el sistema toma los metadatos de este polígono y los presenta un grafio de tacómetro tal como se presentó anteriormente "
   ]
  },
  {
   "cell_type": "markdown",
   "metadata": {},
   "source": [
    "\n",
    "<img src=\"https://tnc.box.com/shared/static/c1xcecaygmujr5m1dx14huzck67wst97.png\" alt=\"drawing\" width=\"400\"/>"
   ]
  },
  {
   "cell_type": "markdown",
   "metadata": {},
   "source": [
    "La base de datos de Aqueduct presenta múltiples conjuntos de datos de riesgo relacionados con el agua::\n",
    "\n",
    "1. Línea de base anual\n",
    "1. Línea de base mensual\n",
    "1. Proyecciones futuras.\n",
    "\n",
    "Los datos pueden ser descargados de [Datos de Aqueduct](https://wri-projects.s3.amazonaws.com/Aqueduct30/finalData/Y2019M07D12_Aqueduct30_V01.zip)\n",
    "\n",
    "## Baseline Annual\n",
    "\n",
    "Las columnas (atributos o campos) en los resultados de la línea de base anual se agrupan en \"identificadores\", \"indicadores\" y \"riesgo de agua agrupado\".\n",
    "\n",
    "### Identificadores:  \n",
    "\n",
    "|Símbolo | Tipo de dato | Descripción |\n",
    "|------------------ | ------------- | ----- |\n",
    "| **string_id** | (string) | Contiene una cadena única para cada geometría. Las geometrías son la unión de cuencas hidrológicas, provincias y acuíferos subterráneos. String_id es una combinación de pfaf_id-gid_1-aqid|\n",
    "| **aq30_id** | (entero) | Identificador único en formato numérico.\n",
    "| **pfaf_id** | (entero) | Código Pfafstetter de seis dígitos para las [cuencas hidrológicas](https://hydrosheds.org/page/hydrobasins).\n",
    "| **gid_1** | (cadena) | Identificador para unidades subnacionales basado en el conjunto de datos [GADM] (https://gadm.org/data.html). Contiene el código de país Iso A3, seguido de valores numéricos separados por guiones bajos para cada unidad subnacional.\n",
    "| **aqid** | (entero) | Identificador para acuíferos subterráneos basado en WHYMAP.\n",
    "| **gid_0** | (cadena) | Código de país ISO A3 basado en [GADM](https://gadm.org/data.html).\n",
    "| **name_0** | (cadena) | Nombre de entidad nacional o política basado en [GADM](https://gadm.org/data.html).\n",
    "| **name_1** | (cadena) | Nombre de entidad política o subnacional basado en [GADM](https://gadm.org/data.html).\n",
    "| **area_km2** | (doble) | Área de la geometría en km2 (unión de subcuenca, provincia y acuífero subterráneo).\n",
    "\n",
    "### Indicadores: \n",
    "\n",
    "Para cada uno de los 13 indicadores, las columnas contienen la abreviatura del indicador más el tipo {indicador}\\_{tipo}, por ejemplo:\n",
    "\n",
    "\"bws_raw\" es el estrés hídrico de referencia, el valor bruto. Las abreviaturas y tipos de indicadores se enumeran a continuación.    \n",
    "    \n",
    "#### Indicadores de Riesgo Fisicos Asociados a Cantidad de Agua: \n",
    "| Símbolo     | Descripción |\n",
    "|-------------|-----|\n",
    "|**bws**| Estrés Hidrico de Referencia|  \n",
    "|**bwd**| Agotamiento Hidrico de Referencia|  \n",
    "|**iav**| Variabilidad Interanual|  \n",
    "|**sev**| Variabilidad Estacional|  \n",
    "|**gtd**| Disminución de la Capa Freática|  \n",
    "|**rfr**| Riesgo de inundación fluvial|  \n",
    "|**cfr**| Riesgo de inundación costera|  \n",
    "|**drr**| Riesgo de sequía|\n",
    "\n",
    "#### Physical risk quality:\n",
    "| Símbolo     | Descripción |\n",
    "|-------------|-----|\n",
    "|**ucw**| Aguas residuales conectadas sin tratar|  \n",
    "|**cep**| Potencial de eutrofización costera|\n",
    "\n",
    "#### Regulatory and reputational risk:\n",
    "| Símbolo     | Descripción |\n",
    "|-------------|-----|\n",
    "|**udw**| Indicador de Estrés Hidrico de Referencia|    \n",
    "|**usa**| Indicador de Agotamiento Hidrico de Referencia|  \n",
    "|**rri**| Indicadodor de Variabilidad Interanual|  \n",
    "\n",
    "### Tipos:  \n",
    "| Símbolo | Tipo de dato | Descripción |\n",
    "| ------------------ | ------------- | ----- |\n",
    "| **\\_raw** | (doble) | valor bruto. Las unidades dependen del indicador.\n",
    "| **\\_score** | (doble) | cada indicador se asigna a una escala [0-5].\n",
    "| **\\_label** | (cadena) | Etiqueta que explica la categoría del indicador, incluido el umbral. p.ej. \"Extremadamente alto (más de 1 de cada 100)\".\n",
    "| **\\_cat** | (entero) | entero para cada categoría [-1,4], se puede utilizar para imágenes.\n",
    "\n",
    "\n",
    "### Riesgo Hídrico Agrupado\n",
    "Los puntajes de riesgo de agua agrupados utilizan el siguiente formato:\n",
    "\n",
    "- w_awr_{weightingscheme}\\_{group}\\_{type}\n",
    "\n",
    "- w_awr, significa riesgo hidrico agregado ponderado. Se usa principalmente para mantenerlos separados de los indicadores restantes.\n",
    "\n",
    "- p.ej. w_awr_min_rrr_score es el puntaje agregado que utiliza el esquema de ponderación de minería para el grupo de riesgo regulatorio y de reputación.\n",
    "\n",
    "\n",
    "#### Esquema de ponderación\n",
    "| Símbolo     | Descripción |\n",
    "|-------------|-----|\n",
    "|**def**| Predeterminado |\n",
    "|**agr**| Agricultura |\n",
    "|**che**| Productos quimicos |\n",
    "|**con**| Materiales de construcción |\n",
    "|**elp**| Energía eléctrica |\n",
    "|**fnb**| Alimentos y Bebidas |\n",
    "|**min**| Minería |\n",
    "|**ong**| Petróleo y gas |\n",
    "|**smc**| Semiconductor |\n",
    "|**tex**| Textil |\n",
    "\n",
    "#### Grupos\n",
    "| Símbolo     | Descripción |\n",
    "|-------------|-----|\n",
    "|**qan** | Cantidad de riesgo físico |\n",
    "|**qal** | Calidad de riesgo físico |\n",
    "|**rrr** | Riesgo regulatorio y reputacional |\n",
    "|**tot** | Total, riesgo general de agua. El |\n",
    "\n",
    "#### Tipos\n",
    "| Símbolo | Tipo de dato | Descripción |\n",
    "| ------------------ | ------------- | ----- |\n",
    "| **\\_raw** | (doble) | valor bruto en escala 0-5. Resultado del enfoque compuesto ponderado |\n",
    "| **\\_score** | (doble) | puntaje [0-5], resultado de aplicar un enfoque cuantil a los valores brutos|\n",
    "| **\\_label** | (cadena) | Etiqueta que explica la categoría del riesgo de agua agrupado.\n",
    "| **\\_cat** | (entero) | Entero para cada categoría [-1,4], se puede utilizar para imágenes.\n",
    "| **\\_weight_fraction** | (doble) | la fracción [0-1] del grupo hacia el puntaje general de riesgo de agua. NoData está excluido de los pesos y, por lo tanto, las fracciones pueden ser inferiores a 1 dependiendo de la disponibilidad de datos.|\n",
    "\n",
    "\n",
    "#### Interpolación lineal de cuantiles. \n",
    "Agregar múltiples puntajes cambia la distribución de los datos. Por lo tanto, en aqueduct se calcula los cuantiles y usa interpolación lineal para reasignar los valores brutos a puntajes de 0-5. Los cuantiles se obtienen de los datos, pero también se enumeran a continuación.\n",
    "\n",
    "| percentil  | puntuación | cantidad | calidad | regulatorio y reputacional | Total |\n",
    "|------------|-------|----------|---------|-----------------------------|---------|\n",
    "| 0          | 0     | 0.00     | 0.00    | 0.00                        | 0.00    |\n",
    "| 0.2        | 1     | 0.72     | 1.45    | 0.30                        | 1.01    |\n",
    "| 0.4        | 2     | 1.09     | 2.20    | 1.39                        | 1.61    |\n",
    "| 0.6        | 3     | 1.60     | 2.92    | 2.81                        | 2.10    |\n",
    "| 0.8        | 4     | 2.34     | 3.83    | 3.93                        | 2.68    |\n",
    "| 1          | 5     | 5.00     | 5.00    | 5.00                        | 5.00    |\n",
    "\n",
    "\n",
    "## Línea Base Mensual\n",
    "\n",
    "\n",
    "## Identificadores:  \n",
    "| Símbolo | Tipo de dato | Descripción |\n",
    "| ------------------ | ------------- | ----- |\n",
    "|**pfaf_id**| (integer)| código Pfafstetter de seis dígitos para las cuencas hidrológicas|\n",
    "|**month**| (integer)| Mes del año|\n",
    "\n",
    "## Indicadores: \n",
    "| Símbolo     | Descripción |\n",
    "|-------------|-----|\n",
    "|**bws**| estrés hídrico de referencia|\n",
    "|**bwd**| agotamiento del agua de referencia|\n",
    "|**iav**| variabilidad interanual|\n",
    "\n",
    "## Tipos:  \n",
    "| Símbolo | Tipo de dato | Descripción |\n",
    "| ------------------ | ------------- | ----- |\n",
    "|**\\_raw**| doble| valor bruto. Las unidades dependen del indicador. Ver la nota técnica|\n",
    "|**\\_score**| doble| cada indicador se asigna a una escala [0-5]|\n",
    "|**\\_label**| string| una etiqueta que explica la categoría del indicador, incluido el umbral. p.ej. \"Extremadamente alto (más de 1 en 100)\"|\n",
    "|**\\_cat**| integer| entero para cada categoría [-1,4], se puede usar para imágenes|\n",
    "\n",
    "\n",
    "## Proyecciones Futuras\n",
    "Las columnas (atributos o campos) en los resultados de las proyecciones futuras se agrupan en \"identificadores\" e \"indicadores\". [Ver Documento Metodológico](https://www.wri.org/publication/aqueduct-water-stress-projections-decadal-projections-water-supply-and-demand-using)\n",
    "\n",
    "## Identificadores \n",
    "| Símbolo | Tipo de dato | Descripción |\n",
    "| ------------------ | ------------- | ----- |\n",
    "|**BasinID**| entero| identificadores de subcuenca|\n",
    "|**dwnBasinID**| entero| siguiente subcuenca aguas abajo|\n",
    "|**Area_km2**| doble| Área de subcuenca en kilómetro cuadrado|\n",
    "|**Shape_Leng**| doble| perímetro de la subcuenca en kilómetro|  \n",
    "\t\n",
    "## Indicadores\n",
    "Hay cuatro indicadores, tres años objetivo, tres escenarios, tres tipos de datos.\n",
    "\n",
    "Los indicadores usan el siguiente formato:\n",
    "{II} {YY} {SS} {R} {X}\n",
    "\n",
    "| Símbolo     | Descripción |\n",
    "|-------------|-----|\n",
    "|**II**| código indicador|\n",
    "|**AA**| código del año|\n",
    "|**SS**| código del escenario|\n",
    "|**T**|código del tipo de dato|\n",
    "|**X**| sufijo|\n",
    "\n",
    "### {II}\tCódigo indicador \n",
    "| Símbolo     | Descripción |\n",
    "|-------------|-----|\n",
    "|**ws** | estrés hídrico |\n",
    "|**sv** | variabilidad estacional |\n",
    "|**ut** | demanda de agua |\n",
    "|**bt** | suministro de agua |\n",
    "\t\n",
    "### {YY}\tCódigo del año \n",
    "| Símbolo     | Descripción |\n",
    "|-------------|-----|\n",
    "|**20**|\t2020  |\n",
    "|**30**|\t2030  |\n",
    "|**40**|\t2040  |\n",
    "\t\n",
    "### {SS}\tCódigo del escenario  \n",
    "| Símbolo     | Descripción |\n",
    "|-------------|-----|\n",
    "|**24**|\tssp2 rcp45 (optimistic)  |\n",
    "|**28**|\tssp2 rcp85 (business as usual)  |\n",
    "|**38**|\tssp3 rcp85 (pessimistic)  |\n",
    "\t\n",
    "### {T}\t  Código del tipo de dato\n",
    "| Símbolo     | Descripción |\n",
    "|-------------|-----|\n",
    "|**c** | cambio desde la línea de base|\n",
    "|**t** | valor futuro|\n",
    "|**u** | valor de incertidumbre (disponible para variabilidad estacional y suministro de agua)|\n",
    "\t\n",
    "### {X}\tSufijo  \n",
    "| Símbolo     | Descripción |\n",
    "|-------------|-----|\n",
    "|**l** | cadena de etiqueta|\n",
    "|**r** | valor bruto|\n",
    "\n",
    "### Unidades\n",
    "Las unidades dependen de la combinación de las opciones anteriores. Las unidades son [m/a] para ut, bt valor futuro y sin dimensiones para ws y sv respectivamente. Otras unidades se explican por sí mismas.\n",
    "\n",
    "Por ejemplo, la capa {ws4028cl} es \"el cambio proyectado en el estrés hídrico para el año 2040 en un escenario de negocios (ssp2 rcp85)\"\n"
   ]
  },
  {
   "cell_type": "markdown",
   "metadata": {},
   "source": [
    "## ¿Como se debe citar esta base de datos?"
   ]
  },
  {
   "cell_type": "markdown",
   "metadata": {},
   "source": [
    "Hofste, R., S. Kuzma, S. Walker, E.H.\n",
    "Sutanudjaja, et. al. 2019. “Aqueduct 3.0: Updated DecisionRelevant Global Water Risk Indicators.” Technical Note.\n",
    "Washington, DC: World Resources Institute. Available online at:\n",
    "https://www.wri.org/publication/aqueduct-30."
   ]
  }
 ],
 "metadata": {
  "kernelspec": {
   "display_name": "Python 3",
   "language": "python",
   "name": "python3"
  },
  "language_info": {
   "codemirror_mode": {
    "name": "ipython",
    "version": 3
   },
   "file_extension": ".py",
   "mimetype": "text/x-python",
   "name": "python",
   "nbconvert_exporter": "python",
   "pygments_lexer": "ipython3",
   "version": "3.7.6"
  }
 },
 "nbformat": 4,
 "nbformat_minor": 4
}
