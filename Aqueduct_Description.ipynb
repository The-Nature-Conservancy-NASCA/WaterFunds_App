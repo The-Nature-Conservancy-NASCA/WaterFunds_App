{
 "cells": [
  {
   "cell_type": "markdown",
   "metadata": {},
   "source": [
    "# Indicadores de Riesgo Hidrico a Incorporar en WaterFunds App           (Aqueduct Global Maps 3.0 Data)"
   ]
  },
  {
   "cell_type": "markdown",
   "metadata": {},
   "source": [
    "<img src=\"https://dl.boxcloud.com/api/2.0/internal_files/689838860743/versions/732511332343/representations/png_paged_2048x2048/content/1.png?access_token=1!8sx7tTcE0unXESVmnsbeqi-ooI1ooiuKkiPoR6Yh2AlqW1hDrsf77bnGozI4oZvwG-nB5Jhu2DS2doQagbjF8auh7eh0NGZuTgQgMnbHv_Z6WqwWnDYlER6eTDMTdqksLqv3_aBUi8nyjaugMf7g_DFPWJN2Qa-z-9EoTZvY2sAzu7pvfqdI2SwvY5cCErQizyRw_ZzZkKULvipkgDkxehHCo6Uz2TQjxfOQWVZydMv33TNvtyjND3-nFCBT2ZuqUFsVgLOCjOTH6XvmoCOoxsZngSw-yQg81OIwMj8mKFNuMzpY2jF4rQFg3WSyePB13kUFut2nSJb2oLj2shlmUzwxrLpWo53fwxwHrA0xADJQlBqY0yuifK007vFolTIC-Mut5YOle9i_vASpz4JVKbIFeJCtXYPp3VoAOivzpFWPU8PgYLgXmMiZj9VvEQqUm9aPdyowPSZBk0QTTDQwvyhZI5aoL7ukUKCEkG9RRH6cRcYfo3IMbL1-9EA6YoWEY2qznjMOd285-VmgDQFusbluF3NpGTK-1Wev4SsdbqhYkRS_sVJwzAAhBUv6cZeQv5L9j88oEA8RXxJUTuJelPf6fY5tNv0virjBRHULsbBBfuG68EU3PeVG7f8cngRg_wheWo-YZgJPzQ6p_5yw8szMPCc0OUintwK9fnWu2BDVv4M.&box_client_name=box-content-preview&box_client_version=2.46.0\" alt=\"drawing\" width=\"800\" height=\"1000\"/>"
   ]
  },
  {
   "cell_type": "markdown",
   "metadata": {},
   "source": [
    "El presente documento contiene una breve síntesis de que es Aqueduct, cuáles son los indicadores que integran esta base de datos y que indicadores se deberían incorporar la WaterFunds App"
   ]
  },
  {
   "cell_type": "markdown",
   "metadata": {},
   "source": [
    "## 1. ¿Que es Aqueduct?"
   ]
  },
  {
   "cell_type": "markdown",
   "metadata": {},
   "source": [
    "Aqueduct es una base de datos creada por el [**World Resoruce Institute**](https://www.wri.org/) en respuesta a las crecientes preocupaciones del sector privado y otros actores sobre la disponibilidad de agua, la calidad del agua, el cambio climático y la creciente demanda. Aqueduct integra una serie de indicadores compuestos que permiten comparar los riesgos relacionados con el agua desde una perspectiva macro.\n",
    "\n",
    "[Documento Técnico de Aqueduct 3.0](https://files.wri.org/s3fs-public/aqueduct-30-updated-decision-relevant-global-water-risk-indicators_1.pdf)\n",
    "\n",
    "asdad\n",
    "[Datos de Aqueduct](https://wri-projects.s3.amazonaws.com/Aqueduct30/finalData/Y2019M07D12_Aqueduct30_V01.zip)"
   ]
  },
  {
   "cell_type": "markdown",
   "metadata": {},
   "source": [
    "## 2. ¿Cuales son los indicadores que integra Aqueduct?"
   ]
  },
  {
   "cell_type": "markdown",
   "metadata": {},
   "source": [
    "Aqueduct consolida un total de 13 indicadores los cuales se encuentran agrupados en tres niveles jerárquicos, de acuerdo con la información que brinda el indicador. En la Figura se presentan los indicadores de Aqueduct agrupados por categoría."
   ]
  },
  {
   "cell_type": "markdown",
   "metadata": {},
   "source": [
    "<img src=\"https://dl.boxcloud.com/api/2.0/internal_files/689867197969/versions/732542177569/representations/png_paged_2048x2048/content/1.png?access_token=1!iZuh-uNBQb-AhjigKvHL74g_kuM4nL6uO4FOQA57oZCflDj6uRGk1kLLr1oRTzTkUsF5Ogis6XKM7aLu2m9mUsre-WiG2ulYIIZvjDNtGaf_YlXLYMnETvXhtjZEkcPSzlKDnEqj3Qqb2E83vm434mK84_ERcP0SnGWNb6d5fxSZgx2yO7YrzXIYY_1rfYG5p01SLYkp6Yw1SRM639dQROBBeNnASOln7B4VrwWSQqSk9Q8jaTXGwyf7VxERcovK9MZnRzStXFuBwHqOzFZD44CHZjPJJ0-oap-GNySHdMqtWtCguGLIf1Tv0ncx0Eh93s45Ct-SpnR2FKelqKqmmPEXTQwMeFZniNveaZCuv2ktKQd56NMUQtpBCuhgMhWgosoz1MO0aAcl9aFXBl0kTZkxoQtys1GwNydMR5pZfk-HeDDmy9AZNlLi5sNl-Tt2c6ky6kxbQgL5Ox24QiKf-vsZPl8wvT8ujW-_SQ9vXh0f-rFdjlZ-LEFQJY-xX3ycmAm3Ml9I1iB99DNR7fRvINrD0ZMbmZhjh4f9BpFjuuHjs26TBIkmOni_qJrOwxDeKuF9QgOyJfYSafSJWkundTlJWXwiPP2v5RfUUOndzPWqSbCuY68ytknS7VyQQFDl-2BBHf7t0W-YTXgJn8bG6dMG0x-8sFgxtrt7-okPbBJmssk.&box_client_name=box-content-preview&box_client_version=2.46.0\" alt=\"drawing\" width=\"800\" height=\"1000\"/>\n",
    "\n",
    "**Fuente :** [Aqueduct](https://files.wri.org/s3fs-public/aqueduct-30-updated-decision-relevant-global-water-risk-indicators_1.pdf)"
   ]
  },
  {
   "cell_type": "markdown",
   "metadata": {},
   "source": [
    "A continuación se describen cada una o de los indicadores que pertenece a cada categoría."
   ]
  },
  {
   "cell_type": "markdown",
   "metadata": {},
   "source": [
    "### 2.1 Indicadores de Riesgo Fisicos Asociados a Cantidad de Agua"
   ]
  },
  {
   "cell_type": "markdown",
   "metadata": {},
   "source": [
    "#### 2.1.1 Indicador de Amenaza por Estrés Hidrico de Referencia ( _bws_ ) \n",
    "\n",
    "Este indicador mide la relación entre las extracciones totales de agua y los suministros renovables disponibles de agua superficial y subterránea. Para la estimacion, se tiene en cuenta los usos consuntivos y no consitvos domésticos, industriales, agricolas y pecuarios. Los suministros de agua renovables disponibles incluyen el impacto de los usuarios de agua de consumo aguas arriba y grandes represas en la disponibilidad de agua río abajo. Valores altos en este indicador expresan mayor competencia entre los usuarios.\n",
    "\n",
    "Este indicador se estima a nivel mensual y anual. La categorización para le nivel de riesgo que tiene este indicador se muestra a continuación:\n",
    "\n",
    "<img src=\"https://dl.boxcloud.com/api/2.0/internal_files/689835720767/versions/732508014767/representations/png_paged_2048x2048/content/1.png?access_token=1!Cp-PP39geaks04veomQs0xvp8lqZk0UxCK3JSiIM9lpkqoxex5-BJZnFCL0m2QjtQLGIx9qMWEeOnmil3MSTr9uSu7axDdfE5lVkZPH7eyymOUSDVXgUqsytoIAAZrCyj0WXYmIETMFl1h1vY7pNrrEnIB5tYUEcVwKLGGutL-gWtKy-66oIJULdXsFiMG9XkILhCwadsEalWG9o_iMxDb__c5JVRV04p_nWd5Q473eE6EP6WpPxlICnS4_6wB82m6N4uD08FkpKiENiID-6CL3PZtemcBxePyM6jQWA4cb9z0RDfLKIFgYOeqxMCwgnsGNFVCvc7mYqr8ozqv_6K_gdxMqvSufeJ3-DYAtQ9RuA6l6gey6PjoTCHUM_Li327HFEkwKun_N7AkXTMy3hpOIoTx2rJ_xzToBQGXS8pkij4f6ih_xaanJyefVnZGYbqgquAuXzmOm6yJWSluyCPR5idVzf8E30C0JankDeeyBcJFp9kL1gLHO8rj98yQZQMb6B_78uK_Rfyy_fvfyddDaWRZls8u7y8kEKh3rzCqKLmrnoWAOfOjP9ZCHnWyNEZFTW_GsNWwdpP0VOs9NSnBYXOpcydJyisIjOnH7VprGTFmDPcQk6Ipyfv_-hkPtE-mZjeIkfvqNjHcex1mpuP_Er4rr_xo5FYzar_k_HGhGHBws.&box_client_name=box-content-preview&box_client_version=2.46.0\" alt=\"drawing\" width=\"400\"/>\n",
    "\n",
    "**Fuente :** [Aqueduct](https://files.wri.org/s3fs-public/aqueduct-30-updated-decision-relevant-global-water-risk-indicators_1.pdf)\n"
   ]
  },
  {
   "cell_type": "markdown",
   "metadata": {},
   "source": [
    "\n",
    "#### 2.1.2 Indicador de Amenaza por Agotamiento Hidrico de Referencia\n",
    "Este indicador mide la relación del consumo total de agua con el suministro de agua renovable disponible. El consumo total de agua incluye usos domésticos, industriales, de riego y de consumo de ganado. Los suministros de agua renovables disponibles incluyen el impacto de los usuarios de agua de consumo aguas arriba y grandes represas en la disponibilidad de agua río abajo. Valores altos en este indicador expresan un mayor impacto en el suministro de agua local y una menor disponibilidad de agua para los usuarios intermedios.\n",
    "\n"
   ]
  },
  {
   "cell_type": "markdown",
   "metadata": {},
   "source": [
    "#### 2.1.3 Indicador de Amenaza por Variabilidad Interanual\n",
    "\n",
    "La variabilidad interanual mide la variabilidad promedio entre años del suministro de agua disponible, incluidos los suministros renovables de agua superficial y subterránea. Los valores más altos indican variaciones más amplias en la oferta disponible de año en año."
   ]
  },
  {
   "cell_type": "markdown",
   "metadata": {},
   "source": [
    "#### 2.1.4 Indicador de Amenaza por Variabilidad Estacional\n",
    "\n",
    "La variabilidad estacional mide la variabilidad promedio dentro del año del suministro de agua disponible, incluidos los suministros renovables de agua superficial y subterránea. Los valores más altos indican variaciones más amplias de la oferta disponible dentro de un año."
   ]
  },
  {
   "cell_type": "markdown",
   "metadata": {},
   "source": [
    "#### 2.1.5 Indicador de Amenaza por Disminución de la Capa Freática\n",
    "\n",
    "La disminución de la capa freática mide la disminución promedio de la capa freática como el cambio promedio para el período de estudio (1990–2014). El resultado se expresa en centímetros por año (cm / año). Los valores más altos indican niveles más altos de extracción de agua subterránea insostenible."
   ]
  },
  {
   "cell_type": "markdown",
   "metadata": {},
   "source": [
    "#### 2.1.6 Indicador de Riesgo de Inundación Fluvial\n",
    "\n",
    "El riesgo de inundación fluvial mide el porcentaje de población que se espera que se vea afectado por las inundaciones fluviales en un año promedio, lo que representa los estándares de protección contra inundaciones existentes. El riesgo de inundación se evalúa utilizando el peligro (inundación causada por el desbordamiento del río), la exposición (población en la zona de inundación) y la vulnerabilidad.16 El nivel existente de protección contra inundaciones también se incorpora al cálculo del riesgo. Es importante tener en cuenta que este indicador representa el riesgo de inundación no en términos del impacto máximo posible sino más bien como el impacto anual promedio. Los impactos de los años de inundación poco frecuentes y extremos se promedian con años de inundación más comunes y menos noticiosos para producir la \"población afectada anual esperada\". Los valores más altos indican que se espera que una mayor proporción de la población se vea afectada por las inundaciones fluviales en promedio."
   ]
  },
  {
   "cell_type": "markdown",
   "metadata": {},
   "source": [
    "#### 2.1.7 Indicador de Riesgo de inundación costera\n",
    "\n",
    "El riesgo de inundación costera mide el porcentaje de la población que se espera que se vea afectada por las inundaciones costeras en un año promedio, teniendo en cuenta las normas de protección contra inundaciones existentes. El riesgo de inundación se evalúa utilizando el peligro (inundación causada por la marejada ciclónica), la exposición (población en la zona de inundación) y la vulnerabilidad.17 El nivel existente de protección contra inundaciones también se incorpora al cálculo del riesgo.\n",
    "\n",
    "Es importante tener en cuenta que este indicador representa el riesgo de inundación no en términos del impacto máximo posible sino más bien como el impacto anual promedio. Los impactos de los años de inundación poco frecuentes y extremos se promedian con años de inundación más comunes y menos noticiosos para producir la \"población afectada anual esperada\". Los valores más altos indican que una mayor proporción de la población se verá afectada por las inundaciones costeras en promedio"
   ]
  },
  {
   "cell_type": "markdown",
   "metadata": {},
   "source": [
    "#### 2.1.8 Indicador de Riesgo de sequía\n",
    "\n",
    "Medidas de riesgo de sequía donde es probable que ocurran sequías, la población y los activos expuestos, y la vulnerabilidad de la población y los activos a los efectos adversos. Los valores más altos indican un mayor riesgo de sequía.\n"
   ]
  },
  {
   "cell_type": "markdown",
   "metadata": {},
   "source": [
    "### 2.2 Riesgo Fisicos asociados a calidad del agua"
   ]
  },
  {
   "cell_type": "markdown",
   "metadata": {},
   "source": [
    "#### 2.2.1 Indicador de Amaneza por Aguas Residuales Conectadas Sin Tratar\n"
   ]
  },
  {
   "cell_type": "markdown",
   "metadata": {},
   "source": [
    "#### 2.2.2 Indicador de Amenaza por Potencial de Eutrofización Costera"
   ]
  },
  {
   "cell_type": "markdown",
   "metadata": {},
   "source": [
    "### 2.3 Riesgo asociados a regulación y reputación"
   ]
  },
  {
   "cell_type": "markdown",
   "metadata": {},
   "source": [
    "#### 2.3.1 Indicador de Amaneza por Agua Potable No Mejorada/No Refleja\n",
    "\n",
    "El agua potable no mejorada / no refleja el porcentaje de la población que recoge agua potable de un pozo excavado sin protección o manantial, o directamente de un río, presa, lago, estanque, arroyo, canal o canal de riego (OMS y UNICEF 2017). Específicamente, el indicador se alinea con las categorías de aguas superficiales y no mejoradas del Programa de Monitoreo Conjunto (JMP), los niveles más bajos de los servicios de agua potable. Los valores más altos indican áreas donde las personas tienen menos acceso a suministros de agua potable."
   ]
  },
  {
   "cell_type": "markdown",
   "metadata": {},
   "source": [
    "#### 2.3.2 Indicador de Amenaza por Agua Sin Mejora/Sin Saneamiento\n",
    "\n",
    "Sin mejorar / sin saneamiento refleja el porcentaje de la población que usa letrinas de pozo sin una losa o plataforma, letrinas colgantes / balde, o directamente eliminando desechos humanos en campos, bosques, arbustos, cuerpos de agua abiertos, playas, otros espacios abiertos, o con sólidos Residuos (OMS y UNICEF 2017). Específicamente, el indicador se alinea con las categorías de defecación abierta y no mejoradas de JMP, el nivel más bajo de servicios de saneamiento. Los valores más altos indican áreas donde las personas tienen menos acceso a servicios de saneamiento mejorados"
   ]
  },
  {
   "cell_type": "markdown",
   "metadata": {},
   "source": [
    "## 3.1 ¿Que Indicadores relevantes para la WaterFunds App?"
   ]
  },
  {
   "cell_type": "code",
   "execution_count": null,
   "metadata": {},
   "outputs": [],
   "source": []
  },
  {
   "cell_type": "markdown",
   "metadata": {},
   "source": [
    "- **Indicadores de Riesgo Fisicos Asociados a Cantidad de Agua**\n",
    "    - [x] Indicador de Estrés Hidrico de Referencia\n",
    "    - [x] Indicador de Agotamiento Hidrico de Referencia\n",
    "    - [x] Indicadodor de Variabilidad Interanual\n",
    "    - [x] Variabilidad estacional\n",
    "    - [x] Disminución de la capa freática\n",
    "    - [x] Riesgo de inundación fluvial\n",
    "    - [ ] Riesgo de inundación costera\n",
    "    - [x] Riesgo de sequía\n",
    "- **Indicadores de Riesgo Fisicos Asociados a Calidad del Agua**\n",
    "    - [x] Aguas residuales conectadas sin tratar\n",
    "    - [ ] Potencial de eutrofización costera\n",
    "- **Indicadores asociados a regulación y reputación**\n",
    "    - [x] Indicador de Estrés Hidrico de Referencia\n",
    "    - [x] Indicador de Agotamiento Hidrico de Referencia\n",
    "    - [x] Indicadodor de Variabilidad Interanual"
   ]
  },
  {
   "cell_type": "markdown",
   "metadata": {},
   "source": [
    "## ¿Como se debe citar esta base de datos?"
   ]
  },
  {
   "cell_type": "markdown",
   "metadata": {},
   "source": [
    "Hofste, R., S. Kuzma, S. Walker, E.H.\n",
    "Sutanudjaja, et. al. 2019. “Aqueduct 3.0: Updated DecisionRelevant Global Water Risk Indicators.” Technical Note.\n",
    "Washington, DC: World Resources Institute. Available online at:\n",
    "https://www.wri.org/publication/aqueduct-30."
   ]
  }
 ],
 "metadata": {
  "kernelspec": {
   "display_name": "Python 3",
   "language": "python",
   "name": "python3"
  },
  "language_info": {
   "codemirror_mode": {
    "name": "ipython",
    "version": 3
   },
   "file_extension": ".py",
   "mimetype": "text/x-python",
   "name": "python",
   "nbconvert_exporter": "python",
   "pygments_lexer": "ipython3",
   "version": "3.7.6"
  }
 },
 "nbformat": 4,
 "nbformat_minor": 4
}
